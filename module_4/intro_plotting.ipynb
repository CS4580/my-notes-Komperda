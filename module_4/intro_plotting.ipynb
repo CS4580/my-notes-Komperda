{
 "cells": [
  {
   "cell_type": "markdown",
   "metadata": {},
   "source": [
    "## Intro to Plotting\n",
    "\n",
    "### Python packages for plotting\n",
    "- `matplotlib`: All plots in pandas are matplotlib objects\n",
    "- `seaborn` : focused on statistical visualization - built on matplotlib\n",
    "- `bokeh` : To create interactive visualization for the internet\n",
    "- `Plotly` : Create interactive and embedded visualization"
   ]
  },
  {
   "cell_type": "markdown",
   "metadata": {},
   "source": [
    "### Matplotlib\n",
    "Main submodule is `pyplot` which will give different functions to work with different plot elements."
   ]
  }
 ],
 "metadata": {
  "kernelspec": {
   "display_name": "module4",
   "language": "python",
   "name": "python3"
  },
  "language_info": {
   "name": "python",
   "version": "3.12.5"
  },
  "orig_nbformat": 4
 },
 "nbformat": 4,
 "nbformat_minor": 2
}
