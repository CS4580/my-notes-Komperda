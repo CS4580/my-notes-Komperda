{
 "cells": [
  {
   "cell_type": "markdown",
   "metadata": {},
   "source": [
    "## Iterables\n",
    "- comprehensions\n",
    "- iterable objects\n",
    "- iterators\n",
    "We can briefly discuss the lazy evaluation model with generators\n",
    "\n",
    "### List comprehensions\n",
    "shorthand of comprehenions will make code more readable, expressive, and effective\n",
    "They actually speed up performance of code\n",
    "\n"
   ]
  },
  {
   "cell_type": "code",
   "execution_count": 2,
   "metadata": {},
   "outputs": [
    {
     "data": {
      "text/plain": [
       "['Today', 'I', 'am', 'very', 'happy', 'to', 'learn', 'about', 'Comprehensions']"
      ]
     },
     "execution_count": 2,
     "metadata": {},
     "output_type": "execute_result"
    }
   ],
   "source": [
    "# a big string\n",
    "words = \"Today I am very happy to learn about Comprehensions\".split()\n",
    "words\n"
   ]
  },
  {
   "cell_type": "code",
   "execution_count": 3,
   "metadata": {},
   "outputs": [
    {
     "name": "stdout",
     "output_type": "stream",
     "text": [
      "['Today', 'I', 'am', 'very', 'happy', 'to', 'learn', 'about', 'Comprehensions']\n",
      "[5, 1, 2, 4, 5, 2, 5, 5, 14]\n"
     ]
    }
   ],
   "source": [
    "# Create a new list with the length of each string from words\n",
    "lengths = []\n",
    "for word in words:\n",
    "    lengths.append(len(word))\n",
    "\n",
    "print(words)\n",
    "print(lengths)"
   ]
  },
  {
   "cell_type": "code",
   "execution_count": 4,
   "metadata": {},
   "outputs": [
    {
     "name": "stdout",
     "output_type": "stream",
     "text": [
      "[5, 1, 2, 4, 5, 2, 5, 5, 14]\n"
     ]
    }
   ],
   "source": [
    "# Same actions with list comprehension instead\n",
    "lengths = [len(word) for word in words]\n",
    "print(lengths)"
   ]
  },
  {
   "cell_type": "code",
   "execution_count": 5,
   "metadata": {},
   "outputs": [],
   "source": [
    "from math import factorial as fact"
   ]
  },
  {
   "cell_type": "code",
   "execution_count": 6,
   "metadata": {},
   "outputs": [
    {
     "name": "stdout",
     "output_type": "stream",
     "text": [
      "[1, 1, 1, 1, 2, 3, 3, 4, 5, 6, 7, 8, 9, 10, 11, 13, 14, 15, 16, 18]\n"
     ]
    }
   ],
   "source": [
    "# Using a comprehension, calculate the length of the first 20 factorial numbers\n",
    "digit = []\n",
    "for num in range(20):\n",
    "    digit.append(len(str(fact(num))))\n",
    "\n",
    "print(digit)\n"
   ]
  },
  {
   "cell_type": "code",
   "execution_count": 8,
   "metadata": {},
   "outputs": [
    {
     "name": "stdout",
     "output_type": "stream",
     "text": [
      "[1, 1, 1, 2, 3, 3, 4, 5, 6, 7, 8, 9, 10, 11, 13, 14, 15, 16, 18, 19]\n"
     ]
    }
   ],
   "source": [
    "# Range is lazy evaluated collection\n",
    "# Python doesn't actually evaluate range until you use it, not if you just assign it or print\n",
    "digit = [len(str(fact(num))) for num in range(1,21)]\n",
    "print(digit)"
   ]
  },
  {
   "cell_type": "markdown",
   "metadata": {},
   "source": [
    "### Set Comprehensions\n",
    "No duplicates in a set.\n",
    "\n",
    "General form:\n",
    "{expr(item for item in iteratble)}\n",
    "\n"
   ]
  },
  {
   "cell_type": "code",
   "execution_count": 11,
   "metadata": {},
   "outputs": [
    {
     "name": "stdout",
     "output_type": "stream",
     "text": [
      "[1, 2, 3, 4, 5, 6, 7, 8, 9, 10, 11, 13, 14, 15, 16, 18, 19]\n"
     ]
    }
   ],
   "source": [
    "digit = list({len(str(fact(num))) for num in range(1,21)})\n",
    "print(digit)"
   ]
  },
  {
   "cell_type": "markdown",
   "metadata": {},
   "source": [
    "### Dictionary Comprehensions\n",
    "\n",
    "General Form\n",
    "```\n",
    "{key_expr:value for item in iterable}\n",
    "```"
   ]
  },
  {
   "cell_type": "code",
   "execution_count": 14,
   "metadata": {},
   "outputs": [
    {
     "name": "stdout",
     "output_type": "stream",
     "text": [
      "{1: 6, 2: 24, 3: 720, 4: 5040, 5: 40320, 6: 362880, 7: 3628800, 8: 39916800, 9: 479001600, 10: 6227020800, 11: 87178291200, 13: 1307674368000, 14: 20922789888000, 15: 355687428096000, 16: 6402373705728000, 18: 121645100408832000, 19: 2432902008176640000}\n"
     ]
    }
   ],
   "source": [
    "digit = {len(str(fact(num))): fact(num) for num in range(1,21)}\n",
    "print(digit)"
   ]
  },
  {
   "cell_type": "code",
   "execution_count": 16,
   "metadata": {},
   "outputs": [
    {
     "name": "stdout",
     "output_type": "stream",
     "text": [
      "{'Warrior': 'San Francisco', 'Lakers': 'Los Angeles', 'Jazz': 'SLC'}\n",
      "{'San Francisco': 'Warrior', 'Los Angeles': 'Lakers', 'SLC': 'Jazz'}\n"
     ]
    }
   ],
   "source": [
    "nba_team = {'Warrior':'San Francisco', 'Lakers': 'Los Angeles', 'Jazz':'SLC'}\n",
    "\n",
    "# Create dictionary comprehension\n",
    "teams_nba = {city:team for team, city in nba_team.items()}\n",
    "print(nba_team)\n",
    "print(teams_nba)"
   ]
  },
  {
   "cell_type": "markdown",
   "metadata": {},
   "source": [
    "### Filtering Predicates\n",
    "You may use `optional` filtering predicate\n",
    "\n",
    "General Form\n",
    "```\n",
    "[expr(item) for item in iterable, if predicate(item)]\n",
    "```"
   ]
  },
  {
   "cell_type": "code",
   "execution_count": 17,
   "metadata": {},
   "outputs": [
    {
     "name": "stdout",
     "output_type": "stream",
     "text": [
      "[2, 3, 5, 7, 11, 13, 17, 19, 23, 29, 31, 37, 41, 43, 47, 53, 59, 61, 67, 71, 73, 79, 83, 89, 97]\n"
     ]
    }
   ],
   "source": [
    "# Return true or false based on if the input number is prime\n",
    "from math import sqrt\n",
    "def is_prime(num):\n",
    "    if num < 2:\n",
    "        return False\n",
    "    for i in range(2, int(sqrt(num)) + 1):\n",
    "        if num % i == 0:\n",
    "            return False\n",
    "    return True\n",
    "\n",
    "\n",
    "\n",
    "# Task: Create a list of prime numbers in the first 100\n",
    "\n",
    "primes = [x for x in range(101) if is_prime(x)]\n",
    "print(primes)"
   ]
  },
  {
   "cell_type": "markdown",
   "metadata": {},
   "source": [
    "# TODO:\n",
    "-iteration protocols\n",
    "-generators"
   ]
  }
 ],
 "metadata": {
  "kernelspec": {
   "display_name": "module4",
   "language": "python",
   "name": "python3"
  },
  "language_info": {
   "codemirror_mode": {
    "name": "ipython",
    "version": 3
   },
   "file_extension": ".py",
   "mimetype": "text/x-python",
   "name": "python",
   "nbconvert_exporter": "python",
   "pygments_lexer": "ipython3",
   "version": "3.12.5"
  },
  "orig_nbformat": 4
 },
 "nbformat": 4,
 "nbformat_minor": 2
}
