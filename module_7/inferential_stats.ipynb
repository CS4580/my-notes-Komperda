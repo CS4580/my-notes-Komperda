{
 "cells": [
  {
   "cell_type": "markdown",
   "metadata": {},
   "source": [
    "# Titanic Survival Data "
   ]
  },
  {
   "cell_type": "markdown",
   "metadata": {},
   "source": [
    "Which variable contributed the most to determine a persons's likliehood of surviving?\n",
    "Dependent -> Did they survive\n",
    "Independent Variable -> The other variables that could determine that.\n",
    "\n",
    "- Null Hypothesis - The independent variable has no effect on the outcome (dependent variable)\n",
    "- Alternative Hypothesis - One or more independent variables do have an effect on the outcome.\n",
    "\n",
    "\n",
    "- True Positive\n",
    "- False Positive - Type 1 Error \n",
    "- True Negative\n",
    "- False Negative - Type 2 Error"
   ]
  },
  {
   "cell_type": "markdown",
   "metadata": {},
   "source": []
  },
  {
   "cell_type": "markdown",
   "metadata": {},
   "source": [
    "## Chi-Squared Analysis\n",
    "\n",
    "## Did more women and children survive compared to men?"
   ]
  },
  {
   "cell_type": "code",
   "execution_count": 21,
   "metadata": {},
   "outputs": [],
   "source": [
    "import pandas as pd"
   ]
  },
  {
   "cell_type": "code",
   "execution_count": 22,
   "metadata": {},
   "outputs": [
    {
     "data": {
      "text/html": [
       "<div>\n",
       "<style scoped>\n",
       "    .dataframe tbody tr th:only-of-type {\n",
       "        vertical-align: middle;\n",
       "    }\n",
       "\n",
       "    .dataframe tbody tr th {\n",
       "        vertical-align: top;\n",
       "    }\n",
       "\n",
       "    .dataframe thead th {\n",
       "        text-align: right;\n",
       "    }\n",
       "</style>\n",
       "<table border=\"1\" class=\"dataframe\">\n",
       "  <thead>\n",
       "    <tr style=\"text-align: right;\">\n",
       "      <th></th>\n",
       "      <th>Name</th>\n",
       "      <th>Born</th>\n",
       "      <th>Died</th>\n",
       "      <th>Age</th>\n",
       "      <th>Gender</th>\n",
       "      <th>Passenger_Class</th>\n",
       "      <th>Lived_Died</th>\n",
       "      <th>Fare</th>\n",
       "      <th>Fare_decimal</th>\n",
       "    </tr>\n",
       "  </thead>\n",
       "  <tbody>\n",
       "    <tr>\n",
       "      <th>0</th>\n",
       "      <td>DEAN, Miss Elizabeth Gladys Millvina</td>\n",
       "      <td>1912.0</td>\n",
       "      <td>2009.0</td>\n",
       "      <td>0.166667</td>\n",
       "      <td>Female</td>\n",
       "      <td>3</td>\n",
       "      <td>lived</td>\n",
       "      <td>£20             11s             6d</td>\n",
       "      <td>20.58</td>\n",
       "    </tr>\n",
       "    <tr>\n",
       "      <th>1</th>\n",
       "      <td>DANBOM, Master Gilbert Sigvard Emanuel</td>\n",
       "      <td>1911.0</td>\n",
       "      <td>1912.0</td>\n",
       "      <td>0.333333</td>\n",
       "      <td>Male</td>\n",
       "      <td>3</td>\n",
       "      <td>died</td>\n",
       "      <td>£14             8s</td>\n",
       "      <td>14.40</td>\n",
       "    </tr>\n",
       "    <tr>\n",
       "      <th>2</th>\n",
       "      <td>TANNūS, Master As'ad</td>\n",
       "      <td>1911.0</td>\n",
       "      <td>1931.0</td>\n",
       "      <td>0.416667</td>\n",
       "      <td>Male</td>\n",
       "      <td>3</td>\n",
       "      <td>lived</td>\n",
       "      <td>£8             10s             4d</td>\n",
       "      <td>8.52</td>\n",
       "    </tr>\n",
       "    <tr>\n",
       "      <th>3</th>\n",
       "      <td>PEACOCK, Master Albert Edward</td>\n",
       "      <td>1911.0</td>\n",
       "      <td>1912.0</td>\n",
       "      <td>0.583333</td>\n",
       "      <td>Male</td>\n",
       "      <td>3</td>\n",
       "      <td>died</td>\n",
       "      <td>£13             15s             6d</td>\n",
       "      <td>13.78</td>\n",
       "    </tr>\n",
       "    <tr>\n",
       "      <th>4</th>\n",
       "      <td>RICHARDS, Master Sibley George</td>\n",
       "      <td>1911.0</td>\n",
       "      <td>1987.0</td>\n",
       "      <td>0.750000</td>\n",
       "      <td>Male</td>\n",
       "      <td>2</td>\n",
       "      <td>lived</td>\n",
       "      <td>£18             15s</td>\n",
       "      <td>18.75</td>\n",
       "    </tr>\n",
       "    <tr>\n",
       "      <th>...</th>\n",
       "      <td>...</td>\n",
       "      <td>...</td>\n",
       "      <td>...</td>\n",
       "      <td>...</td>\n",
       "      <td>...</td>\n",
       "      <td>...</td>\n",
       "      <td>...</td>\n",
       "      <td>...</td>\n",
       "      <td>...</td>\n",
       "    </tr>\n",
       "    <tr>\n",
       "      <th>1347</th>\n",
       "      <td>FLETCHER, Miss N.</td>\n",
       "      <td>NaN</td>\n",
       "      <td>NaN</td>\n",
       "      <td>NaN</td>\n",
       "      <td>Female</td>\n",
       "      <td>1</td>\n",
       "      <td>died</td>\n",
       "      <td>£1             10s</td>\n",
       "      <td>1.50</td>\n",
       "    </tr>\n",
       "    <tr>\n",
       "      <th>1348</th>\n",
       "      <td>STEVENS, Mr George</td>\n",
       "      <td>NaN</td>\n",
       "      <td>NaN</td>\n",
       "      <td>NaN</td>\n",
       "      <td>Male</td>\n",
       "      <td>1</td>\n",
       "      <td>died</td>\n",
       "      <td>£1             10s</td>\n",
       "      <td>1.50</td>\n",
       "    </tr>\n",
       "    <tr>\n",
       "      <th>1349</th>\n",
       "      <td>CARRUTHERS, Mr Francis</td>\n",
       "      <td>NaN</td>\n",
       "      <td>NaN</td>\n",
       "      <td>NaN</td>\n",
       "      <td>Male</td>\n",
       "      <td>1</td>\n",
       "      <td>died</td>\n",
       "      <td>NaN</td>\n",
       "      <td>NaN</td>\n",
       "    </tr>\n",
       "    <tr>\n",
       "      <th>1350</th>\n",
       "      <td>COLLIS, Mr</td>\n",
       "      <td>NaN</td>\n",
       "      <td>NaN</td>\n",
       "      <td>NaN</td>\n",
       "      <td>Male</td>\n",
       "      <td>1</td>\n",
       "      <td>died</td>\n",
       "      <td>NaN</td>\n",
       "      <td>NaN</td>\n",
       "    </tr>\n",
       "    <tr>\n",
       "      <th>1351</th>\n",
       "      <td>WILDING, Mr Edward</td>\n",
       "      <td>NaN</td>\n",
       "      <td>NaN</td>\n",
       "      <td>NaN</td>\n",
       "      <td>Male</td>\n",
       "      <td>1</td>\n",
       "      <td>died</td>\n",
       "      <td>NaN</td>\n",
       "      <td>NaN</td>\n",
       "    </tr>\n",
       "  </tbody>\n",
       "</table>\n",
       "<p>1352 rows × 9 columns</p>\n",
       "</div>"
      ],
      "text/plain": [
       "                                        Name    Born    Died       Age  \\\n",
       "0       DEAN, Miss Elizabeth Gladys Millvina  1912.0  2009.0  0.166667   \n",
       "1     DANBOM, Master Gilbert Sigvard Emanuel  1911.0  1912.0  0.333333   \n",
       "2                       TANNūS, Master As'ad  1911.0  1931.0  0.416667   \n",
       "3              PEACOCK, Master Albert Edward  1911.0  1912.0  0.583333   \n",
       "4             RICHARDS, Master Sibley George  1911.0  1987.0  0.750000   \n",
       "...                                      ...     ...     ...       ...   \n",
       "1347                       FLETCHER, Miss N.     NaN     NaN       NaN   \n",
       "1348                      STEVENS, Mr George     NaN     NaN       NaN   \n",
       "1349                  CARRUTHERS, Mr Francis     NaN     NaN       NaN   \n",
       "1350                              COLLIS, Mr     NaN     NaN       NaN   \n",
       "1351                      WILDING, Mr Edward     NaN     NaN       NaN   \n",
       "\n",
       "      Gender  Passenger_Class Lived_Died                                Fare  \\\n",
       "0     Female                3      lived  £20             11s             6d   \n",
       "1       Male                3       died                  £14             8s   \n",
       "2       Male                3      lived   £8             10s             4d   \n",
       "3       Male                3       died  £13             15s             6d   \n",
       "4       Male                2      lived                 £18             15s   \n",
       "...      ...              ...        ...                                 ...   \n",
       "1347  Female                1       died                  £1             10s   \n",
       "1348    Male                1       died                  £1             10s   \n",
       "1349    Male                1       died                                 NaN   \n",
       "1350    Male                1       died                                 NaN   \n",
       "1351    Male                1       died                                 NaN   \n",
       "\n",
       "      Fare_decimal  \n",
       "0            20.58  \n",
       "1            14.40  \n",
       "2             8.52  \n",
       "3            13.78  \n",
       "4            18.75  \n",
       "...            ...  \n",
       "1347          1.50  \n",
       "1348          1.50  \n",
       "1349           NaN  \n",
       "1350           NaN  \n",
       "1351           NaN  \n",
       "\n",
       "[1352 rows x 9 columns]"
      ]
     },
     "execution_count": 22,
     "metadata": {},
     "output_type": "execute_result"
    }
   ],
   "source": [
    "df = pd.read_csv(\"../data/Titanic_Passengers.csv\")\n",
    "df"
   ]
  },
  {
   "cell_type": "code",
   "execution_count": 23,
   "metadata": {},
   "outputs": [
    {
     "data": {
      "text/html": [
       "<div>\n",
       "<style scoped>\n",
       "    .dataframe tbody tr th:only-of-type {\n",
       "        vertical-align: middle;\n",
       "    }\n",
       "\n",
       "    .dataframe tbody tr th {\n",
       "        vertical-align: top;\n",
       "    }\n",
       "\n",
       "    .dataframe thead th {\n",
       "        text-align: right;\n",
       "    }\n",
       "</style>\n",
       "<table border=\"1\" class=\"dataframe\">\n",
       "  <thead>\n",
       "    <tr style=\"text-align: right;\">\n",
       "      <th></th>\n",
       "      <th>Name</th>\n",
       "      <th>Born</th>\n",
       "      <th>Died</th>\n",
       "      <th>Age</th>\n",
       "      <th>Gender</th>\n",
       "      <th>Passenger_Class</th>\n",
       "      <th>Lived_Died</th>\n",
       "      <th>Fare</th>\n",
       "      <th>Fare_decimal</th>\n",
       "    </tr>\n",
       "  </thead>\n",
       "  <tbody>\n",
       "    <tr>\n",
       "      <th>0</th>\n",
       "      <td>DEAN, Miss Elizabeth Gladys Millvina</td>\n",
       "      <td>1912.0</td>\n",
       "      <td>2009.0</td>\n",
       "      <td>0.166667</td>\n",
       "      <td>Female</td>\n",
       "      <td>3</td>\n",
       "      <td>lived</td>\n",
       "      <td>£20             11s             6d</td>\n",
       "      <td>20.58</td>\n",
       "    </tr>\n",
       "    <tr>\n",
       "      <th>1</th>\n",
       "      <td>DANBOM, Master Gilbert Sigvard Emanuel</td>\n",
       "      <td>1911.0</td>\n",
       "      <td>1912.0</td>\n",
       "      <td>0.333333</td>\n",
       "      <td>Male</td>\n",
       "      <td>3</td>\n",
       "      <td>died</td>\n",
       "      <td>£14             8s</td>\n",
       "      <td>14.40</td>\n",
       "    </tr>\n",
       "    <tr>\n",
       "      <th>2</th>\n",
       "      <td>TANNūS, Master As'ad</td>\n",
       "      <td>1911.0</td>\n",
       "      <td>1931.0</td>\n",
       "      <td>0.416667</td>\n",
       "      <td>Male</td>\n",
       "      <td>3</td>\n",
       "      <td>lived</td>\n",
       "      <td>£8             10s             4d</td>\n",
       "      <td>8.52</td>\n",
       "    </tr>\n",
       "    <tr>\n",
       "      <th>3</th>\n",
       "      <td>PEACOCK, Master Albert Edward</td>\n",
       "      <td>1911.0</td>\n",
       "      <td>1912.0</td>\n",
       "      <td>0.583333</td>\n",
       "      <td>Male</td>\n",
       "      <td>3</td>\n",
       "      <td>died</td>\n",
       "      <td>£13             15s             6d</td>\n",
       "      <td>13.78</td>\n",
       "    </tr>\n",
       "    <tr>\n",
       "      <th>4</th>\n",
       "      <td>RICHARDS, Master Sibley George</td>\n",
       "      <td>1911.0</td>\n",
       "      <td>1987.0</td>\n",
       "      <td>0.750000</td>\n",
       "      <td>Male</td>\n",
       "      <td>2</td>\n",
       "      <td>lived</td>\n",
       "      <td>£18             15s</td>\n",
       "      <td>18.75</td>\n",
       "    </tr>\n",
       "    <tr>\n",
       "      <th>...</th>\n",
       "      <td>...</td>\n",
       "      <td>...</td>\n",
       "      <td>...</td>\n",
       "      <td>...</td>\n",
       "      <td>...</td>\n",
       "      <td>...</td>\n",
       "      <td>...</td>\n",
       "      <td>...</td>\n",
       "      <td>...</td>\n",
       "    </tr>\n",
       "    <tr>\n",
       "      <th>182</th>\n",
       "      <td>PARKER, Mr Clifford Richard</td>\n",
       "      <td>1894.0</td>\n",
       "      <td>1912.0</td>\n",
       "      <td>17.000000</td>\n",
       "      <td>Male</td>\n",
       "      <td>2</td>\n",
       "      <td>died</td>\n",
       "      <td>£10             10s</td>\n",
       "      <td>10.50</td>\n",
       "    </tr>\n",
       "    <tr>\n",
       "      <th>183</th>\n",
       "      <td>DAVIES, Mr Joseph</td>\n",
       "      <td>1895.0</td>\n",
       "      <td>1912.0</td>\n",
       "      <td>17.000000</td>\n",
       "      <td>Male</td>\n",
       "      <td>3</td>\n",
       "      <td>died</td>\n",
       "      <td>£8             1s</td>\n",
       "      <td>8.05</td>\n",
       "    </tr>\n",
       "    <tr>\n",
       "      <th>184</th>\n",
       "      <td>RUSH, Mr Alfred George John</td>\n",
       "      <td>1895.0</td>\n",
       "      <td>1912.0</td>\n",
       "      <td>17.000000</td>\n",
       "      <td>Male</td>\n",
       "      <td>3</td>\n",
       "      <td>died</td>\n",
       "      <td>£8             1s</td>\n",
       "      <td>8.05</td>\n",
       "    </tr>\n",
       "    <tr>\n",
       "      <th>185</th>\n",
       "      <td>CARRAú-ESTEVES, Mr José Pedro</td>\n",
       "      <td>1894.0</td>\n",
       "      <td>1912.0</td>\n",
       "      <td>17.000000</td>\n",
       "      <td>Male</td>\n",
       "      <td>1</td>\n",
       "      <td>died</td>\n",
       "      <td>£47             2s</td>\n",
       "      <td>47.10</td>\n",
       "    </tr>\n",
       "    <tr>\n",
       "      <th>186</th>\n",
       "      <td>ALLUM, Mr Owen George</td>\n",
       "      <td>1894.0</td>\n",
       "      <td>1912.0</td>\n",
       "      <td>17.000000</td>\n",
       "      <td>Male</td>\n",
       "      <td>3</td>\n",
       "      <td>died</td>\n",
       "      <td>£8             6s</td>\n",
       "      <td>8.30</td>\n",
       "    </tr>\n",
       "  </tbody>\n",
       "</table>\n",
       "<p>187 rows × 9 columns</p>\n",
       "</div>"
      ],
      "text/plain": [
       "                                       Name    Born    Died        Age  \\\n",
       "0      DEAN, Miss Elizabeth Gladys Millvina  1912.0  2009.0   0.166667   \n",
       "1    DANBOM, Master Gilbert Sigvard Emanuel  1911.0  1912.0   0.333333   \n",
       "2                      TANNūS, Master As'ad  1911.0  1931.0   0.416667   \n",
       "3             PEACOCK, Master Albert Edward  1911.0  1912.0   0.583333   \n",
       "4            RICHARDS, Master Sibley George  1911.0  1987.0   0.750000   \n",
       "..                                      ...     ...     ...        ...   \n",
       "182             PARKER, Mr Clifford Richard  1894.0  1912.0  17.000000   \n",
       "183                       DAVIES, Mr Joseph  1895.0  1912.0  17.000000   \n",
       "184             RUSH, Mr Alfred George John  1895.0  1912.0  17.000000   \n",
       "185           CARRAú-ESTEVES, Mr José Pedro  1894.0  1912.0  17.000000   \n",
       "186                   ALLUM, Mr Owen George  1894.0  1912.0  17.000000   \n",
       "\n",
       "     Gender  Passenger_Class Lived_Died                                Fare  \\\n",
       "0    Female                3      lived  £20             11s             6d   \n",
       "1      Male                3       died                  £14             8s   \n",
       "2      Male                3      lived   £8             10s             4d   \n",
       "3      Male                3       died  £13             15s             6d   \n",
       "4      Male                2      lived                 £18             15s   \n",
       "..      ...              ...        ...                                 ...   \n",
       "182    Male                2       died                 £10             10s   \n",
       "183    Male                3       died                   £8             1s   \n",
       "184    Male                3       died                   £8             1s   \n",
       "185    Male                1       died                  £47             2s   \n",
       "186    Male                3       died                   £8             6s   \n",
       "\n",
       "     Fare_decimal  \n",
       "0           20.58  \n",
       "1           14.40  \n",
       "2            8.52  \n",
       "3           13.78  \n",
       "4           18.75  \n",
       "..            ...  \n",
       "182         10.50  \n",
       "183          8.05  \n",
       "184          8.05  \n",
       "185         47.10  \n",
       "186          8.30  \n",
       "\n",
       "[187 rows x 9 columns]"
      ]
     },
     "execution_count": 23,
     "metadata": {},
     "output_type": "execute_result"
    }
   ],
   "source": [
    "children_df = df[df['Age'] < 18]\n",
    "children_df"
   ]
  },
  {
   "cell_type": "code",
   "execution_count": 24,
   "metadata": {},
   "outputs": [
    {
     "data": {
      "text/html": [
       "<div>\n",
       "<style scoped>\n",
       "    .dataframe tbody tr th:only-of-type {\n",
       "        vertical-align: middle;\n",
       "    }\n",
       "\n",
       "    .dataframe tbody tr th {\n",
       "        vertical-align: top;\n",
       "    }\n",
       "\n",
       "    .dataframe thead th {\n",
       "        text-align: right;\n",
       "    }\n",
       "</style>\n",
       "<table border=\"1\" class=\"dataframe\">\n",
       "  <thead>\n",
       "    <tr style=\"text-align: right;\">\n",
       "      <th></th>\n",
       "      <th></th>\n",
       "      <th>Name</th>\n",
       "      <th>Born</th>\n",
       "      <th>Died</th>\n",
       "      <th>Age</th>\n",
       "      <th>Passenger_Class</th>\n",
       "      <th>Fare</th>\n",
       "      <th>Fare_decimal</th>\n",
       "    </tr>\n",
       "    <tr>\n",
       "      <th>Gender</th>\n",
       "      <th>Lived_Died</th>\n",
       "      <th></th>\n",
       "      <th></th>\n",
       "      <th></th>\n",
       "      <th></th>\n",
       "      <th></th>\n",
       "      <th></th>\n",
       "      <th></th>\n",
       "    </tr>\n",
       "  </thead>\n",
       "  <tbody>\n",
       "    <tr>\n",
       "      <th rowspan=\"2\" valign=\"top\">Female</th>\n",
       "      <th>died</th>\n",
       "      <td>143</td>\n",
       "      <td>132</td>\n",
       "      <td>131</td>\n",
       "      <td>132</td>\n",
       "      <td>143</td>\n",
       "      <td>143</td>\n",
       "      <td>143</td>\n",
       "    </tr>\n",
       "    <tr>\n",
       "      <th>lived</th>\n",
       "      <td>339</td>\n",
       "      <td>339</td>\n",
       "      <td>326</td>\n",
       "      <td>339</td>\n",
       "      <td>339</td>\n",
       "      <td>339</td>\n",
       "      <td>339</td>\n",
       "    </tr>\n",
       "    <tr>\n",
       "      <th rowspan=\"2\" valign=\"top\">Male</th>\n",
       "      <th>died</th>\n",
       "      <td>709</td>\n",
       "      <td>697</td>\n",
       "      <td>698</td>\n",
       "      <td>697</td>\n",
       "      <td>709</td>\n",
       "      <td>680</td>\n",
       "      <td>680</td>\n",
       "    </tr>\n",
       "    <tr>\n",
       "      <th>lived</th>\n",
       "      <td>161</td>\n",
       "      <td>160</td>\n",
       "      <td>154</td>\n",
       "      <td>160</td>\n",
       "      <td>161</td>\n",
       "      <td>159</td>\n",
       "      <td>159</td>\n",
       "    </tr>\n",
       "  </tbody>\n",
       "</table>\n",
       "</div>"
      ],
      "text/plain": [
       "                   Name  Born  Died  Age  Passenger_Class  Fare  Fare_decimal\n",
       "Gender Lived_Died                                                            \n",
       "Female died         143   132   131  132              143   143           143\n",
       "       lived        339   339   326  339              339   339           339\n",
       "Male   died         709   697   698  697              709   680           680\n",
       "       lived        161   160   154  160              161   159           159"
      ]
     },
     "execution_count": 24,
     "metadata": {},
     "output_type": "execute_result"
    }
   ],
   "source": [
    "df.groupby([\"Gender\", \"Lived_Died\"]).count()"
   ]
  },
  {
   "cell_type": "markdown",
   "metadata": {},
   "source": [
    "- What kind of data is the `dependent` variable? String (Lost, Saved)\n",
    "- What kind of data is the `gender` variable? String (male, female) \n",
    "  - `Ordinal` data. Data that can be ordered\n",
    "  - `Categorical` data. Data that can not be ordered"
   ]
  },
  {
   "cell_type": "code",
   "execution_count": 25,
   "metadata": {},
   "outputs": [
    {
     "data": {
      "text/html": [
       "<div>\n",
       "<style scoped>\n",
       "    .dataframe tbody tr th:only-of-type {\n",
       "        vertical-align: middle;\n",
       "    }\n",
       "\n",
       "    .dataframe tbody tr th {\n",
       "        vertical-align: top;\n",
       "    }\n",
       "\n",
       "    .dataframe thead th {\n",
       "        text-align: right;\n",
       "    }\n",
       "</style>\n",
       "<table border=\"1\" class=\"dataframe\">\n",
       "  <thead>\n",
       "    <tr style=\"text-align: right;\">\n",
       "      <th>Lived_Died</th>\n",
       "      <th>died</th>\n",
       "      <th>lived</th>\n",
       "    </tr>\n",
       "    <tr>\n",
       "      <th>Gender</th>\n",
       "      <th></th>\n",
       "      <th></th>\n",
       "    </tr>\n",
       "  </thead>\n",
       "  <tbody>\n",
       "    <tr>\n",
       "      <th>Female</th>\n",
       "      <td>143</td>\n",
       "      <td>339</td>\n",
       "    </tr>\n",
       "    <tr>\n",
       "      <th>Male</th>\n",
       "      <td>709</td>\n",
       "      <td>161</td>\n",
       "    </tr>\n",
       "  </tbody>\n",
       "</table>\n",
       "</div>"
      ],
      "text/plain": [
       "Lived_Died  died  lived\n",
       "Gender                 \n",
       "Female       143    339\n",
       "Male         709    161"
      ]
     },
     "execution_count": 25,
     "metadata": {},
     "output_type": "execute_result"
    }
   ],
   "source": [
    "# Margins = True will show the summary\n",
    "contingency_table = pd.crosstab(df['Gender'], df['Lived_Died'])\n",
    "contingency_table"
   ]
  },
  {
   "cell_type": "code",
   "execution_count": 26,
   "metadata": {},
   "outputs": [
    {
     "data": {
      "text/html": [
       "<div>\n",
       "<style scoped>\n",
       "    .dataframe tbody tr th:only-of-type {\n",
       "        vertical-align: middle;\n",
       "    }\n",
       "\n",
       "    .dataframe tbody tr th {\n",
       "        vertical-align: top;\n",
       "    }\n",
       "\n",
       "    .dataframe thead th {\n",
       "        text-align: right;\n",
       "    }\n",
       "</style>\n",
       "<table border=\"1\" class=\"dataframe\">\n",
       "  <thead>\n",
       "    <tr style=\"text-align: right;\">\n",
       "      <th>Lived_Died</th>\n",
       "      <th>died</th>\n",
       "      <th>lived</th>\n",
       "      <th>All</th>\n",
       "    </tr>\n",
       "    <tr>\n",
       "      <th>Gender</th>\n",
       "      <th></th>\n",
       "      <th></th>\n",
       "      <th></th>\n",
       "    </tr>\n",
       "  </thead>\n",
       "  <tbody>\n",
       "    <tr>\n",
       "      <th>Female</th>\n",
       "      <td>31</td>\n",
       "      <td>52</td>\n",
       "      <td>83</td>\n",
       "    </tr>\n",
       "    <tr>\n",
       "      <th>Male</th>\n",
       "      <td>71</td>\n",
       "      <td>33</td>\n",
       "      <td>104</td>\n",
       "    </tr>\n",
       "    <tr>\n",
       "      <th>All</th>\n",
       "      <td>102</td>\n",
       "      <td>85</td>\n",
       "      <td>187</td>\n",
       "    </tr>\n",
       "  </tbody>\n",
       "</table>\n",
       "</div>"
      ],
      "text/plain": [
       "Lived_Died  died  lived  All\n",
       "Gender                      \n",
       "Female        31     52   83\n",
       "Male          71     33  104\n",
       "All          102     85  187"
      ]
     },
     "execution_count": 26,
     "metadata": {},
     "output_type": "execute_result"
    }
   ],
   "source": [
    "children_table = pd.crosstab(children_df['Gender'], children_df['Lived_Died'], margins=True)\n",
    "children_table"
   ]
  },
  {
   "cell_type": "code",
   "execution_count": 27,
   "metadata": {},
   "outputs": [
    {
     "name": "stdout",
     "output_type": "stream",
     "text": [
      "Male Living percentage is 18.50574712643678\n",
      "Female Living percentage is 70.33195020746888\n",
      "Children Living percentage is 45.45454545454545\n"
     ]
    }
   ],
   "source": [
    "male = 161/ (709+161)\n",
    "female = 339 / (143+339)\n",
    "children = 85 / (102+85)\n",
    "\n",
    "print(f'Male Living percentage is {male * 100}')\n",
    "print(f'Female Living percentage is {female * 100}')\n",
    "print(f'Children Living percentage is {children * 100}')\n",
    "\n",
    "      "
   ]
  },
  {
   "cell_type": "code",
   "execution_count": 28,
   "metadata": {},
   "outputs": [],
   "source": [
    "import matplotlib.pyplot as plt\n",
    "import seaborn as sns"
   ]
  },
  {
   "cell_type": "code",
   "execution_count": 67,
   "metadata": {},
   "outputs": [
    {
     "name": "stdout",
     "output_type": "stream",
     "text": [
      "(104.05195288933228, 2.543346399916496e-23, 2)\n",
      "Critical Value 3.8414588206941205\n"
     ]
    }
   ],
   "source": [
    "from scipy import stats\n",
    "print(stats.chi2_contingency(contingency_table)[0:3])\n",
    "# What do these numbers mean?\n",
    "# You get 3 values back\n",
    "# 1) Chi-Square : The higher the statistic, the less likelihood that the observed values were the result of pure chance\n",
    "#- How to interpret \"higher\"\n",
    "# 2) Target P-value\n",
    "# 3) degrees of freedom\n",
    "print(f'Critical Value {stats.chi2.ppf(0.95,df=1)}')"
   ]
  },
  {
   "cell_type": "code",
   "execution_count": 30,
   "metadata": {},
   "outputs": [
    {
     "data": {
      "text/plain": [
       "Text(0, 0.5, 'Number of Passengers')"
      ]
     },
     "execution_count": 30,
     "metadata": {},
     "output_type": "execute_result"
    },
    {
     "data": {
      "image/png": "[encoded data removed]",
      "text/plain": [
       "<Figure size 640x480 with 1 Axes>"
      ]
     },
     "metadata": {},
     "output_type": "display_data"
    }
   ],
   "source": [
    "# Stacked Bar chart of Lived/Died Women Men\n",
    "\n",
    "contingency_table.plot(kind='bar', stacked=True)\n",
    "plt.title(\"Titanic Passengers who Lived and Died based on gender\")\n",
    "plt.ylabel(\"Number of Passengers\")"
   ]
  },
  {
   "cell_type": "markdown",
   "metadata": {},
   "source": [
    "## Chi-Square Example: Was Age relevant?"
   ]
  },
  {
   "cell_type": "code",
   "execution_count": 31,
   "metadata": {},
   "outputs": [
    {
     "data": {
      "text/html": [
       "<div>\n",
       "<style scoped>\n",
       "    .dataframe tbody tr th:only-of-type {\n",
       "        vertical-align: middle;\n",
       "    }\n",
       "\n",
       "    .dataframe tbody tr th {\n",
       "        vertical-align: top;\n",
       "    }\n",
       "\n",
       "    .dataframe thead th {\n",
       "        text-align: right;\n",
       "    }\n",
       "</style>\n",
       "<table border=\"1\" class=\"dataframe\">\n",
       "  <thead>\n",
       "    <tr style=\"text-align: right;\">\n",
       "      <th></th>\n",
       "      <th>Name</th>\n",
       "      <th>Born</th>\n",
       "      <th>Died</th>\n",
       "      <th>Age</th>\n",
       "      <th>Gender</th>\n",
       "      <th>Passenger_Class</th>\n",
       "      <th>Lived_Died</th>\n",
       "      <th>Fare</th>\n",
       "      <th>Fare_decimal</th>\n",
       "      <th>Age2</th>\n",
       "    </tr>\n",
       "  </thead>\n",
       "  <tbody>\n",
       "    <tr>\n",
       "      <th>0</th>\n",
       "      <td>DEAN, Miss Elizabeth Gladys Millvina</td>\n",
       "      <td>1912.0</td>\n",
       "      <td>2009.0</td>\n",
       "      <td>0.166667</td>\n",
       "      <td>Female</td>\n",
       "      <td>3</td>\n",
       "      <td>lived</td>\n",
       "      <td>£20             11s             6d</td>\n",
       "      <td>20.58</td>\n",
       "      <td>0.0</td>\n",
       "    </tr>\n",
       "    <tr>\n",
       "      <th>1</th>\n",
       "      <td>DANBOM, Master Gilbert Sigvard Emanuel</td>\n",
       "      <td>1911.0</td>\n",
       "      <td>1912.0</td>\n",
       "      <td>0.333333</td>\n",
       "      <td>Male</td>\n",
       "      <td>3</td>\n",
       "      <td>died</td>\n",
       "      <td>£14             8s</td>\n",
       "      <td>14.40</td>\n",
       "      <td>1.0</td>\n",
       "    </tr>\n",
       "    <tr>\n",
       "      <th>2</th>\n",
       "      <td>TANNūS, Master As'ad</td>\n",
       "      <td>1911.0</td>\n",
       "      <td>1931.0</td>\n",
       "      <td>0.416667</td>\n",
       "      <td>Male</td>\n",
       "      <td>3</td>\n",
       "      <td>lived</td>\n",
       "      <td>£8             10s             4d</td>\n",
       "      <td>8.52</td>\n",
       "      <td>1.0</td>\n",
       "    </tr>\n",
       "    <tr>\n",
       "      <th>3</th>\n",
       "      <td>PEACOCK, Master Albert Edward</td>\n",
       "      <td>1911.0</td>\n",
       "      <td>1912.0</td>\n",
       "      <td>0.583333</td>\n",
       "      <td>Male</td>\n",
       "      <td>3</td>\n",
       "      <td>died</td>\n",
       "      <td>£13             15s             6d</td>\n",
       "      <td>13.78</td>\n",
       "      <td>1.0</td>\n",
       "    </tr>\n",
       "    <tr>\n",
       "      <th>4</th>\n",
       "      <td>RICHARDS, Master Sibley George</td>\n",
       "      <td>1911.0</td>\n",
       "      <td>1987.0</td>\n",
       "      <td>0.750000</td>\n",
       "      <td>Male</td>\n",
       "      <td>2</td>\n",
       "      <td>lived</td>\n",
       "      <td>£18             15s</td>\n",
       "      <td>18.75</td>\n",
       "      <td>1.0</td>\n",
       "    </tr>\n",
       "    <tr>\n",
       "      <th>...</th>\n",
       "      <td>...</td>\n",
       "      <td>...</td>\n",
       "      <td>...</td>\n",
       "      <td>...</td>\n",
       "      <td>...</td>\n",
       "      <td>...</td>\n",
       "      <td>...</td>\n",
       "      <td>...</td>\n",
       "      <td>...</td>\n",
       "      <td>...</td>\n",
       "    </tr>\n",
       "    <tr>\n",
       "      <th>1347</th>\n",
       "      <td>FLETCHER, Miss N.</td>\n",
       "      <td>NaN</td>\n",
       "      <td>NaN</td>\n",
       "      <td>NaN</td>\n",
       "      <td>Female</td>\n",
       "      <td>1</td>\n",
       "      <td>died</td>\n",
       "      <td>£1             10s</td>\n",
       "      <td>1.50</td>\n",
       "      <td>NaN</td>\n",
       "    </tr>\n",
       "    <tr>\n",
       "      <th>1348</th>\n",
       "      <td>STEVENS, Mr George</td>\n",
       "      <td>NaN</td>\n",
       "      <td>NaN</td>\n",
       "      <td>NaN</td>\n",
       "      <td>Male</td>\n",
       "      <td>1</td>\n",
       "      <td>died</td>\n",
       "      <td>£1             10s</td>\n",
       "      <td>1.50</td>\n",
       "      <td>NaN</td>\n",
       "    </tr>\n",
       "    <tr>\n",
       "      <th>1349</th>\n",
       "      <td>CARRUTHERS, Mr Francis</td>\n",
       "      <td>NaN</td>\n",
       "      <td>NaN</td>\n",
       "      <td>NaN</td>\n",
       "      <td>Male</td>\n",
       "      <td>1</td>\n",
       "      <td>died</td>\n",
       "      <td>NaN</td>\n",
       "      <td>NaN</td>\n",
       "      <td>NaN</td>\n",
       "    </tr>\n",
       "    <tr>\n",
       "      <th>1350</th>\n",
       "      <td>COLLIS, Mr</td>\n",
       "      <td>NaN</td>\n",
       "      <td>NaN</td>\n",
       "      <td>NaN</td>\n",
       "      <td>Male</td>\n",
       "      <td>1</td>\n",
       "      <td>died</td>\n",
       "      <td>NaN</td>\n",
       "      <td>NaN</td>\n",
       "      <td>NaN</td>\n",
       "    </tr>\n",
       "    <tr>\n",
       "      <th>1351</th>\n",
       "      <td>WILDING, Mr Edward</td>\n",
       "      <td>NaN</td>\n",
       "      <td>NaN</td>\n",
       "      <td>NaN</td>\n",
       "      <td>Male</td>\n",
       "      <td>1</td>\n",
       "      <td>died</td>\n",
       "      <td>NaN</td>\n",
       "      <td>NaN</td>\n",
       "      <td>NaN</td>\n",
       "    </tr>\n",
       "  </tbody>\n",
       "</table>\n",
       "<p>1352 rows × 10 columns</p>\n",
       "</div>"
      ],
      "text/plain": [
       "                                        Name    Born    Died       Age  \\\n",
       "0       DEAN, Miss Elizabeth Gladys Millvina  1912.0  2009.0  0.166667   \n",
       "1     DANBOM, Master Gilbert Sigvard Emanuel  1911.0  1912.0  0.333333   \n",
       "2                       TANNūS, Master As'ad  1911.0  1931.0  0.416667   \n",
       "3              PEACOCK, Master Albert Edward  1911.0  1912.0  0.583333   \n",
       "4             RICHARDS, Master Sibley George  1911.0  1987.0  0.750000   \n",
       "...                                      ...     ...     ...       ...   \n",
       "1347                       FLETCHER, Miss N.     NaN     NaN       NaN   \n",
       "1348                      STEVENS, Mr George     NaN     NaN       NaN   \n",
       "1349                  CARRUTHERS, Mr Francis     NaN     NaN       NaN   \n",
       "1350                              COLLIS, Mr     NaN     NaN       NaN   \n",
       "1351                      WILDING, Mr Edward     NaN     NaN       NaN   \n",
       "\n",
       "      Gender  Passenger_Class Lived_Died                                Fare  \\\n",
       "0     Female                3      lived  £20             11s             6d   \n",
       "1       Male                3       died                  £14             8s   \n",
       "2       Male                3      lived   £8             10s             4d   \n",
       "3       Male                3       died  £13             15s             6d   \n",
       "4       Male                2      lived                 £18             15s   \n",
       "...      ...              ...        ...                                 ...   \n",
       "1347  Female                1       died                  £1             10s   \n",
       "1348    Male                1       died                  £1             10s   \n",
       "1349    Male                1       died                                 NaN   \n",
       "1350    Male                1       died                                 NaN   \n",
       "1351    Male                1       died                                 NaN   \n",
       "\n",
       "      Fare_decimal  Age2  \n",
       "0            20.58   0.0  \n",
       "1            14.40   1.0  \n",
       "2             8.52   1.0  \n",
       "3            13.78   1.0  \n",
       "4            18.75   1.0  \n",
       "...            ...   ...  \n",
       "1347          1.50   NaN  \n",
       "1348          1.50   NaN  \n",
       "1349           NaN   NaN  \n",
       "1350           NaN   NaN  \n",
       "1351           NaN   NaN  \n",
       "\n",
       "[1352 rows x 10 columns]"
      ]
     },
     "execution_count": 31,
     "metadata": {},
     "output_type": "execute_result"
    }
   ],
   "source": [
    "# Check the age column. It should be the difference of Died - Born. \n",
    "# But we care about age at the time of the incident, so Died needs to be 1912\n",
    "# 1912 - Born\n",
    "\n",
    "df['Age2'] = 1912 - df['Born']\n",
    "df"
   ]
  },
  {
   "cell_type": "code",
   "execution_count": 32,
   "metadata": {},
   "outputs": [
    {
     "name": "stdout",
     "output_type": "stream",
     "text": [
      "Lived_Died  died  lived\n",
      "age_bins               \n",
      "(0, 10]       46     54\n",
      "(10, 20]     156     71\n",
      "(20, 30]     286    166\n",
      "(30, 40]     158    107\n",
      "(40, 50]     111     64\n",
      "(50, 60]      40     30\n",
      "(60, 70]      27      7\n",
      "(70, 80]       5      0\n",
      "Chi2-Stats (24.465546982751874, 0.0009433264132943268, 7)\n"
     ]
    }
   ],
   "source": [
    "# What about null values?\n",
    "#df['Age'].dropna()\n",
    "\n",
    "# is each bin included when making range. \n",
    "# is 10 included in the bin for 10 - No\n",
    "# Bin is 0 - 9.99, 10-19.999\n",
    "#df['age_bins'] = pd.cut(x=df['Age'], bins=[0,10,20,30,40,50,60,70,80])\n",
    "df['age_bins'] = pd.cut(x=df['Age'], bins=range(0,90,10))\n",
    "\n",
    "contingency_table = pd.crosstab(df['age_bins'], df['Lived_Died'])\n",
    "print(contingency_table)\n",
    "print(f'Chi2-Stats {stats.chi2_contingency(contingency_table)[0:3]}')\n",
    "# P-value shows statistical significance\n",
    "# Chi2 value shows "
   ]
  },
  {
   "cell_type": "code",
   "execution_count": 33,
   "metadata": {},
   "outputs": [
    {
     "name": "stderr",
     "output_type": "stream",
     "text": [
      "/var/folders/d3/3fhlv1gn0k73glsv1lv807fc0000gn/T/ipykernel_42417/846317721.py:1: FutureWarning: The default of observed=False is deprecated and will be changed to True in a future version of pandas. Pass observed=False to retain current behavior or observed=True to adopt the future default and silence this warning.\n",
      "  df.groupby(['age_bins', 'Lived_Died']).size().unstack().plot(kind='bar', stacked=False)\n"
     ]
    },
    {
     "data": {
      "text/plain": [
       "<Axes: xlabel='age_bins'>"
      ]
     },
     "execution_count": 33,
     "metadata": {},
     "output_type": "execute_result"
    },
    {
     "data": {
      "image/png": "[encoded data removed]",
      "text/plain": [
       "<Figure size 640x480 with 1 Axes>"
      ]
     },
     "metadata": {},
     "output_type": "display_data"
    }
   ],
   "source": [
    "df.groupby(['age_bins', 'Lived_Died']).size().unstack().plot(kind='bar', stacked=False)"
   ]
  },
  {
   "cell_type": "code",
   "execution_count": 34,
   "metadata": {},
   "outputs": [
    {
     "data": {
      "text/plain": [
       "<Axes: xlabel='age_bins'>"
      ]
     },
     "execution_count": 34,
     "metadata": {},
     "output_type": "execute_result"
    },
    {
     "data": {
      "image/png": "[encoded data removed]",
      "text/plain": [
       "<Figure size 640x480 with 1 Axes>"
      ]
     },
     "metadata": {},
     "output_type": "display_data"
    }
   ],
   "source": [
    "contingency_table.plot(kind='bar')"
   ]
  },
  {
   "cell_type": "code",
   "execution_count": 35,
   "metadata": {},
   "outputs": [],
   "source": [
    "# Create a heatmap\n",
    "# Use a pivot table\n",
    "#pivot_table = pd.pivot(contingency_table, columns='Lived_Died')\n",
    "\n",
    "import seaborn as sns\n",
    "from sklearn import preprocessing\n",
    "import pandas as pd\n",
    "import matplotlib.pyplot as plt\n",
    "#sns.heatmap(contingency_table, cmap='coolwarm')"
   ]
  },
  {
   "cell_type": "code",
   "execution_count": 36,
   "metadata": {},
   "outputs": [
    {
     "data": {
      "text/html": [
       "<div>\n",
       "<style scoped>\n",
       "    .dataframe tbody tr th:only-of-type {\n",
       "        vertical-align: middle;\n",
       "    }\n",
       "\n",
       "    .dataframe tbody tr th {\n",
       "        vertical-align: top;\n",
       "    }\n",
       "\n",
       "    .dataframe thead th {\n",
       "        text-align: right;\n",
       "    }\n",
       "</style>\n",
       "<table border=\"1\" class=\"dataframe\">\n",
       "  <thead>\n",
       "    <tr style=\"text-align: right;\">\n",
       "      <th></th>\n",
       "      <th>Age</th>\n",
       "      <th>Gender</th>\n",
       "      <th>Passenger_Class</th>\n",
       "      <th>Lived_Died</th>\n",
       "    </tr>\n",
       "  </thead>\n",
       "  <tbody>\n",
       "    <tr>\n",
       "      <th>0</th>\n",
       "      <td>0.166667</td>\n",
       "      <td>Female</td>\n",
       "      <td>3</td>\n",
       "      <td>lived</td>\n",
       "    </tr>\n",
       "    <tr>\n",
       "      <th>1</th>\n",
       "      <td>0.333333</td>\n",
       "      <td>Male</td>\n",
       "      <td>3</td>\n",
       "      <td>died</td>\n",
       "    </tr>\n",
       "    <tr>\n",
       "      <th>2</th>\n",
       "      <td>0.416667</td>\n",
       "      <td>Male</td>\n",
       "      <td>3</td>\n",
       "      <td>lived</td>\n",
       "    </tr>\n",
       "    <tr>\n",
       "      <th>3</th>\n",
       "      <td>0.583333</td>\n",
       "      <td>Male</td>\n",
       "      <td>3</td>\n",
       "      <td>died</td>\n",
       "    </tr>\n",
       "    <tr>\n",
       "      <th>4</th>\n",
       "      <td>0.750000</td>\n",
       "      <td>Male</td>\n",
       "      <td>2</td>\n",
       "      <td>lived</td>\n",
       "    </tr>\n",
       "    <tr>\n",
       "      <th>...</th>\n",
       "      <td>...</td>\n",
       "      <td>...</td>\n",
       "      <td>...</td>\n",
       "      <td>...</td>\n",
       "    </tr>\n",
       "    <tr>\n",
       "      <th>1323</th>\n",
       "      <td>71.000000</td>\n",
       "      <td>Male</td>\n",
       "      <td>1</td>\n",
       "      <td>died</td>\n",
       "    </tr>\n",
       "    <tr>\n",
       "      <th>1324</th>\n",
       "      <td>71.000000</td>\n",
       "      <td>Male</td>\n",
       "      <td>1</td>\n",
       "      <td>died</td>\n",
       "    </tr>\n",
       "    <tr>\n",
       "      <th>1325</th>\n",
       "      <td>71.000000</td>\n",
       "      <td>Male</td>\n",
       "      <td>2</td>\n",
       "      <td>died</td>\n",
       "    </tr>\n",
       "    <tr>\n",
       "      <th>1326</th>\n",
       "      <td>71.000000</td>\n",
       "      <td>Male</td>\n",
       "      <td>2</td>\n",
       "      <td>died</td>\n",
       "    </tr>\n",
       "    <tr>\n",
       "      <th>1327</th>\n",
       "      <td>74.000000</td>\n",
       "      <td>Male</td>\n",
       "      <td>3</td>\n",
       "      <td>died</td>\n",
       "    </tr>\n",
       "  </tbody>\n",
       "</table>\n",
       "<p>1328 rows × 4 columns</p>\n",
       "</div>"
      ],
      "text/plain": [
       "            Age  Gender  Passenger_Class Lived_Died\n",
       "0      0.166667  Female                3      lived\n",
       "1      0.333333    Male                3       died\n",
       "2      0.416667    Male                3      lived\n",
       "3      0.583333    Male                3       died\n",
       "4      0.750000    Male                2      lived\n",
       "...         ...     ...              ...        ...\n",
       "1323  71.000000    Male                1       died\n",
       "1324  71.000000    Male                1       died\n",
       "1325  71.000000    Male                2       died\n",
       "1326  71.000000    Male                2       died\n",
       "1327  74.000000    Male                3       died\n",
       "\n",
       "[1328 rows x 4 columns]"
      ]
     },
     "execution_count": 36,
     "metadata": {},
     "output_type": "execute_result"
    }
   ],
   "source": [
    "passenger_df = pd.read_csv(\"../data/Titanic_Passengers.csv\")\n",
    "passenger_df.drop(['Name', 'Born', 'Died', 'Fare', 'Fare_decimal'], axis=1, inplace=True)\n",
    "passenger_df.dropna(inplace=True)\n",
    "passenger_df"
   ]
  },
  {
   "cell_type": "code",
   "execution_count": 37,
   "metadata": {},
   "outputs": [],
   "source": [
    "le = preprocessing.LabelEncoder()"
   ]
  },
  {
   "cell_type": "code",
   "execution_count": 38,
   "metadata": {},
   "outputs": [
    {
     "name": "stdout",
     "output_type": "stream",
     "text": [
      "            Age  Gender  Passenger_Class Lived_Died  Lived_Died_int  age_bins\n",
      "0      0.166667  Female                3      lived               1   (0, 10]\n",
      "1      0.333333    Male                3       died               0   (0, 10]\n",
      "2      0.416667    Male                3      lived               1   (0, 10]\n",
      "3      0.583333    Male                3       died               0   (0, 10]\n",
      "4      0.750000    Male                2      lived               1   (0, 10]\n",
      "...         ...     ...              ...        ...             ...       ...\n",
      "1323  71.000000    Male                1       died               0  (70, 80]\n",
      "1324  71.000000    Male                1       died               0  (70, 80]\n",
      "1325  71.000000    Male                2       died               0  (70, 80]\n",
      "1326  71.000000    Male                2       died               0  (70, 80]\n",
      "1327  74.000000    Male                3       died               0  (70, 80]\n",
      "\n",
      "[1328 rows x 6 columns]\n"
     ]
    },
    {
     "name": "stderr",
     "output_type": "stream",
     "text": [
      "/var/folders/d3/3fhlv1gn0k73glsv1lv807fc0000gn/T/ipykernel_42417/2622870847.py:7: FutureWarning: The default value of observed=False is deprecated and will change to observed=True in a future version of pandas. Specify observed=False to silence this warning and retain the current behavior\n",
      "  pivot_table = pd.pivot_table(passenger_df, values='Lived_Died_int', index='Gender', columns=['age_bins'])\n",
      "/var/folders/d3/3fhlv1gn0k73glsv1lv807fc0000gn/T/ipykernel_42417/2622870847.py:8: FutureWarning: DataFrame.applymap has been deprecated. Use DataFrame.map instead.\n",
      "  pivot_table.applymap(lambda x: 1-x) # invert values in heatmap\n"
     ]
    },
    {
     "data": {
      "text/html": [
       "<div>\n",
       "<style scoped>\n",
       "    .dataframe tbody tr th:only-of-type {\n",
       "        vertical-align: middle;\n",
       "    }\n",
       "\n",
       "    .dataframe tbody tr th {\n",
       "        vertical-align: top;\n",
       "    }\n",
       "\n",
       "    .dataframe thead th {\n",
       "        text-align: right;\n",
       "    }\n",
       "</style>\n",
       "<table border=\"1\" class=\"dataframe\">\n",
       "  <thead>\n",
       "    <tr style=\"text-align: right;\">\n",
       "      <th>age_bins</th>\n",
       "      <th>(0, 10]</th>\n",
       "      <th>(10, 20]</th>\n",
       "      <th>(20, 30]</th>\n",
       "      <th>(30, 40]</th>\n",
       "      <th>(40, 50]</th>\n",
       "      <th>(50, 60]</th>\n",
       "      <th>(60, 70]</th>\n",
       "      <th>(70, 80]</th>\n",
       "    </tr>\n",
       "    <tr>\n",
       "      <th>Gender</th>\n",
       "      <th></th>\n",
       "      <th></th>\n",
       "      <th></th>\n",
       "      <th></th>\n",
       "      <th></th>\n",
       "      <th></th>\n",
       "      <th></th>\n",
       "      <th></th>\n",
       "    </tr>\n",
       "  </thead>\n",
       "  <tbody>\n",
       "    <tr>\n",
       "      <th>Female</th>\n",
       "      <td>0.565217</td>\n",
       "      <td>0.658824</td>\n",
       "      <td>0.748299</td>\n",
       "      <td>0.767677</td>\n",
       "      <td>0.736842</td>\n",
       "      <td>0.884615</td>\n",
       "      <td>0.545455</td>\n",
       "      <td>NaN</td>\n",
       "    </tr>\n",
       "    <tr>\n",
       "      <th>Male</th>\n",
       "      <td>0.518519</td>\n",
       "      <td>0.105634</td>\n",
       "      <td>0.183607</td>\n",
       "      <td>0.186747</td>\n",
       "      <td>0.186441</td>\n",
       "      <td>0.159091</td>\n",
       "      <td>0.043478</td>\n",
       "      <td>0.0</td>\n",
       "    </tr>\n",
       "  </tbody>\n",
       "</table>\n",
       "</div>"
      ],
      "text/plain": [
       "age_bins   (0, 10]  (10, 20]  (20, 30]  (30, 40]  (40, 50]  (50, 60]  \\\n",
       "Gender                                                                 \n",
       "Female    0.565217  0.658824  0.748299  0.767677  0.736842  0.884615   \n",
       "Male      0.518519  0.105634  0.183607  0.186747  0.186441  0.159091   \n",
       "\n",
       "age_bins  (60, 70]  (70, 80]  \n",
       "Gender                        \n",
       "Female    0.545455       NaN  \n",
       "Male      0.043478       0.0  "
      ]
     },
     "execution_count": 38,
     "metadata": {},
     "output_type": "execute_result"
    }
   ],
   "source": [
    "passenger_df['Lived_Died_int'] = le.fit_transform(passenger_df['Lived_Died'])\n",
    "passenger_df['age_bins'] = pd.cut(x=passenger_df['Age'], bins=range(0,90,10))\n",
    "\n",
    "\n",
    "print(passenger_df)\n",
    "# use pivotttable\n",
    "pivot_table = pd.pivot_table(passenger_df, values='Lived_Died_int', index='Gender', columns=['age_bins'])\n",
    "pivot_table.applymap(lambda x: 1-x) # invert values in heatmap\n",
    "pivot_table"
   ]
  },
  {
   "cell_type": "code",
   "execution_count": 39,
   "metadata": {},
   "outputs": [
    {
     "data": {
      "text/plain": [
       "<Axes: xlabel='age_bins', ylabel='Gender'>"
      ]
     },
     "execution_count": 39,
     "metadata": {},
     "output_type": "execute_result"
    },
    {
     "data": {
      "image/png": "[encoded data removed]",
      "text/plain": [
       "<Figure size 1200x500 with 2 Axes>"
      ]
     },
     "metadata": {},
     "output_type": "display_data"
    }
   ],
   "source": [
    "# Create heatmap\n",
    "plt.figure(figsize=(12,5))\n",
    "x_axis_labels = ['0-9','10-19','20-29','30-39','40-49','50-59','60-69','70-79']\n",
    "sns.heatmap(pivot_table,annot=True, yticklabels=['Female', 'Male'], xticklabels=x_axis_labels, fmt='.2f', cmap='rocket')\n",
    "#plt.xticks(rotation=90)\n"
   ]
  },
  {
   "cell_type": "code",
   "execution_count": 40,
   "metadata": {},
   "outputs": [],
   "source": [
    "# Task: Did the titanic passenger class affect survival rate?"
   ]
  },
  {
   "cell_type": "code",
   "execution_count": 41,
   "metadata": {},
   "outputs": [
    {
     "data": {
      "text/html": [
       "<div>\n",
       "<style scoped>\n",
       "    .dataframe tbody tr th:only-of-type {\n",
       "        vertical-align: middle;\n",
       "    }\n",
       "\n",
       "    .dataframe tbody tr th {\n",
       "        vertical-align: top;\n",
       "    }\n",
       "\n",
       "    .dataframe thead th {\n",
       "        text-align: right;\n",
       "    }\n",
       "</style>\n",
       "<table border=\"1\" class=\"dataframe\">\n",
       "  <thead>\n",
       "    <tr style=\"text-align: right;\">\n",
       "      <th></th>\n",
       "      <th>Passenger_Class</th>\n",
       "      <th>Lived_Died</th>\n",
       "    </tr>\n",
       "  </thead>\n",
       "  <tbody>\n",
       "    <tr>\n",
       "      <th>0</th>\n",
       "      <td>3</td>\n",
       "      <td>lived</td>\n",
       "    </tr>\n",
       "    <tr>\n",
       "      <th>1</th>\n",
       "      <td>3</td>\n",
       "      <td>died</td>\n",
       "    </tr>\n",
       "    <tr>\n",
       "      <th>2</th>\n",
       "      <td>3</td>\n",
       "      <td>lived</td>\n",
       "    </tr>\n",
       "    <tr>\n",
       "      <th>3</th>\n",
       "      <td>3</td>\n",
       "      <td>died</td>\n",
       "    </tr>\n",
       "    <tr>\n",
       "      <th>4</th>\n",
       "      <td>2</td>\n",
       "      <td>lived</td>\n",
       "    </tr>\n",
       "    <tr>\n",
       "      <th>...</th>\n",
       "      <td>...</td>\n",
       "      <td>...</td>\n",
       "    </tr>\n",
       "    <tr>\n",
       "      <th>1347</th>\n",
       "      <td>1</td>\n",
       "      <td>died</td>\n",
       "    </tr>\n",
       "    <tr>\n",
       "      <th>1348</th>\n",
       "      <td>1</td>\n",
       "      <td>died</td>\n",
       "    </tr>\n",
       "    <tr>\n",
       "      <th>1349</th>\n",
       "      <td>1</td>\n",
       "      <td>died</td>\n",
       "    </tr>\n",
       "    <tr>\n",
       "      <th>1350</th>\n",
       "      <td>1</td>\n",
       "      <td>died</td>\n",
       "    </tr>\n",
       "    <tr>\n",
       "      <th>1351</th>\n",
       "      <td>1</td>\n",
       "      <td>died</td>\n",
       "    </tr>\n",
       "  </tbody>\n",
       "</table>\n",
       "<p>1352 rows × 2 columns</p>\n",
       "</div>"
      ],
      "text/plain": [
       "      Passenger_Class Lived_Died\n",
       "0                   3      lived\n",
       "1                   3       died\n",
       "2                   3      lived\n",
       "3                   3       died\n",
       "4                   2      lived\n",
       "...               ...        ...\n",
       "1347                1       died\n",
       "1348                1       died\n",
       "1349                1       died\n",
       "1350                1       died\n",
       "1351                1       died\n",
       "\n",
       "[1352 rows x 2 columns]"
      ]
     },
     "execution_count": 41,
     "metadata": {},
     "output_type": "execute_result"
    }
   ],
   "source": [
    "passenger_df2 = pd.read_csv(\"../data/Titanic_Passengers.csv\")\n",
    "passenger_df2.drop(['Name', 'Born', 'Died', 'Fare', 'Fare_decimal','Gender','Age'], axis=1, inplace=True)\n",
    "passenger_df2.dropna(inplace=True)\n",
    "passenger_df2\n",
    "# Passenger Class is ordinal data - can order it."
   ]
  },
  {
   "cell_type": "code",
   "execution_count": 42,
   "metadata": {},
   "outputs": [
    {
     "data": {
      "text/html": [
       "<div>\n",
       "<style scoped>\n",
       "    .dataframe tbody tr th:only-of-type {\n",
       "        vertical-align: middle;\n",
       "    }\n",
       "\n",
       "    .dataframe tbody tr th {\n",
       "        vertical-align: top;\n",
       "    }\n",
       "\n",
       "    .dataframe thead th {\n",
       "        text-align: right;\n",
       "    }\n",
       "</style>\n",
       "<table border=\"1\" class=\"dataframe\">\n",
       "  <thead>\n",
       "    <tr style=\"text-align: right;\">\n",
       "      <th></th>\n",
       "      <th>Passenger_Class</th>\n",
       "      <th>Lived_Died</th>\n",
       "      <th>Lived_Died_int</th>\n",
       "    </tr>\n",
       "  </thead>\n",
       "  <tbody>\n",
       "    <tr>\n",
       "      <th>0</th>\n",
       "      <td>3</td>\n",
       "      <td>lived</td>\n",
       "      <td>1</td>\n",
       "    </tr>\n",
       "    <tr>\n",
       "      <th>1</th>\n",
       "      <td>3</td>\n",
       "      <td>died</td>\n",
       "      <td>0</td>\n",
       "    </tr>\n",
       "    <tr>\n",
       "      <th>2</th>\n",
       "      <td>3</td>\n",
       "      <td>lived</td>\n",
       "      <td>1</td>\n",
       "    </tr>\n",
       "    <tr>\n",
       "      <th>3</th>\n",
       "      <td>3</td>\n",
       "      <td>died</td>\n",
       "      <td>0</td>\n",
       "    </tr>\n",
       "    <tr>\n",
       "      <th>4</th>\n",
       "      <td>2</td>\n",
       "      <td>lived</td>\n",
       "      <td>1</td>\n",
       "    </tr>\n",
       "    <tr>\n",
       "      <th>...</th>\n",
       "      <td>...</td>\n",
       "      <td>...</td>\n",
       "      <td>...</td>\n",
       "    </tr>\n",
       "    <tr>\n",
       "      <th>1347</th>\n",
       "      <td>1</td>\n",
       "      <td>died</td>\n",
       "      <td>0</td>\n",
       "    </tr>\n",
       "    <tr>\n",
       "      <th>1348</th>\n",
       "      <td>1</td>\n",
       "      <td>died</td>\n",
       "      <td>0</td>\n",
       "    </tr>\n",
       "    <tr>\n",
       "      <th>1349</th>\n",
       "      <td>1</td>\n",
       "      <td>died</td>\n",
       "      <td>0</td>\n",
       "    </tr>\n",
       "    <tr>\n",
       "      <th>1350</th>\n",
       "      <td>1</td>\n",
       "      <td>died</td>\n",
       "      <td>0</td>\n",
       "    </tr>\n",
       "    <tr>\n",
       "      <th>1351</th>\n",
       "      <td>1</td>\n",
       "      <td>died</td>\n",
       "      <td>0</td>\n",
       "    </tr>\n",
       "  </tbody>\n",
       "</table>\n",
       "<p>1352 rows × 3 columns</p>\n",
       "</div>"
      ],
      "text/plain": [
       "      Passenger_Class Lived_Died  Lived_Died_int\n",
       "0                   3      lived               1\n",
       "1                   3       died               0\n",
       "2                   3      lived               1\n",
       "3                   3       died               0\n",
       "4                   2      lived               1\n",
       "...               ...        ...             ...\n",
       "1347                1       died               0\n",
       "1348                1       died               0\n",
       "1349                1       died               0\n",
       "1350                1       died               0\n",
       "1351                1       died               0\n",
       "\n",
       "[1352 rows x 3 columns]"
      ]
     },
     "execution_count": 42,
     "metadata": {},
     "output_type": "execute_result"
    }
   ],
   "source": [
    "passenger_df2['Lived_Died_int'] = le.fit_transform(passenger_df2['Lived_Died'])\n",
    "passenger_df2\n",
    "\n"
   ]
  },
  {
   "cell_type": "code",
   "execution_count": 43,
   "metadata": {},
   "outputs": [
    {
     "data": {
      "text/plain": [
       "<Axes: >"
      ]
     },
     "execution_count": 43,
     "metadata": {},
     "output_type": "execute_result"
    },
    {
     "data": {
      "image/png": "[encoded data removed]",
      "text/plain": [
       "<Figure size 640x480 with 1 Axes>"
      ]
     },
     "metadata": {},
     "output_type": "display_data"
    }
   ],
   "source": [
    "# Bar plot\n",
    "sns.barplot(data=passenger_df2)"
   ]
  },
  {
   "cell_type": "code",
   "execution_count": 44,
   "metadata": {},
   "outputs": [
    {
     "data": {
      "text/html": [
       "<div>\n",
       "<style scoped>\n",
       "    .dataframe tbody tr th:only-of-type {\n",
       "        vertical-align: middle;\n",
       "    }\n",
       "\n",
       "    .dataframe tbody tr th {\n",
       "        vertical-align: top;\n",
       "    }\n",
       "\n",
       "    .dataframe thead th {\n",
       "        text-align: right;\n",
       "    }\n",
       "</style>\n",
       "<table border=\"1\" class=\"dataframe\">\n",
       "  <thead>\n",
       "    <tr style=\"text-align: right;\">\n",
       "      <th>Passenger_Class</th>\n",
       "      <th>1</th>\n",
       "      <th>2</th>\n",
       "      <th>3</th>\n",
       "    </tr>\n",
       "    <tr>\n",
       "      <th>Lived_Died</th>\n",
       "      <th></th>\n",
       "      <th></th>\n",
       "      <th></th>\n",
       "    </tr>\n",
       "  </thead>\n",
       "  <tbody>\n",
       "    <tr>\n",
       "      <th>died</th>\n",
       "      <td>149</td>\n",
       "      <td>175</td>\n",
       "      <td>528</td>\n",
       "    </tr>\n",
       "    <tr>\n",
       "      <th>lived</th>\n",
       "      <td>201</td>\n",
       "      <td>118</td>\n",
       "      <td>181</td>\n",
       "    </tr>\n",
       "  </tbody>\n",
       "</table>\n",
       "</div>"
      ],
      "text/plain": [
       "Passenger_Class    1    2    3\n",
       "Lived_Died                    \n",
       "died             149  175  528\n",
       "lived            201  118  181"
      ]
     },
     "execution_count": 44,
     "metadata": {},
     "output_type": "execute_result"
    }
   ],
   "source": [
    "#pivot_table = pd.pivot_table(passenger_df, values='Lived_Died_int', columns=['Passenger_Class'])\n",
    "contingency_table = pd.crosstab(passenger_df2['Lived_Died'],passenger_df2['Passenger_Class'], margins=False)\n",
    "contingency_table\n"
   ]
  },
  {
   "cell_type": "code",
   "execution_count": 45,
   "metadata": {},
   "outputs": [
    {
     "data": {
      "image/png": "[encoded data removed]",
      "text/plain": [
       "<Figure size 640x480 with 1 Axes>"
      ]
     },
     "metadata": {},
     "output_type": "display_data"
    }
   ],
   "source": [
    "contingency_table.plot(kind='bar', stacked=True)\n",
    "plt.xticks(rotation=0)\n",
    "plt.show()"
   ]
  },
  {
   "cell_type": "code",
   "execution_count": 46,
   "metadata": {},
   "outputs": [
    {
     "name": "stdout",
     "output_type": "stream",
     "text": [
      "(104.05195288933228, 2.543346399916496e-23, 2)\n"
     ]
    }
   ],
   "source": [
    "from scipy import stats\n",
    "\n",
    "print(stats.chi2_contingency(contingency_table)[0:3])"
   ]
  },
  {
   "cell_type": "markdown",
   "metadata": {},
   "source": [
    "Which Passenger Class is responsbile for the significance in survival rate?\n",
    "- Chi-Square tells us that at least one of the passenger class is different from what we would expect if the variables were independent\n",
    "- This is our first test, so it is a `priori test`\n",
    "- To continue our analysis, we will run another test, `post-hoc` test"
   ]
  },
  {
   "cell_type": "markdown",
   "metadata": {},
   "source": [
    "### Post-Hoc Test (Fisher's Exact Test)\n",
    "- Compare every passenger class to every other to see if there is statistical significance\n",
    "- We could apply chi-square test for each of the 3 separate comparisons but our sample data is too small for that..\n",
    "- Fisher is better option in this case"
   ]
  },
  {
   "cell_type": "code",
   "execution_count": 47,
   "metadata": {},
   "outputs": [
    {
     "name": "stdout",
     "output_type": "stream",
     "text": [
      "Lived_Died       died  lived\n",
      "Passenger_Class             \n",
      "1                 149    201\n",
      "2                 175    118\n",
      "3                 528    181\n",
      "Fisher's Exact Test for First and Second Class: 1.827149276703859e-05\n",
      "Fisher's Exact Test for First and third Class: 7.457205699022123e-24\n",
      "Fisher's Exact Test for second and third Class: 5.007621820657881e-06\n"
     ]
    }
   ],
   "source": [
    "passenger_df2 = pd.read_csv(\"../data/Titanic_Passengers.csv\")\n",
    "contingency_table = pd.crosstab(passenger_df2['Passenger_Class'],passenger_df2['Lived_Died'], margins=False)\n",
    "print(contingency_table)\n",
    "first_class = contingency_table.iloc[0].values # Extract Row values\n",
    "second_class = contingency_table.iloc[1].values # Extract Row values\n",
    "third_class = contingency_table.iloc[2].values # Extract Row values\n",
    "first_class\n",
    "# Create a fisher's exact test to determine if there is a relationship between passenger class\n",
    "oddsratio, pvalue = stats.fisher_exact([first_class,second_class])\n",
    "print(f\"Fisher's Exact Test for First and Second Class: {pvalue}\")\n",
    "oddsratio, pvalue = stats.fisher_exact([first_class,third_class])\n",
    "print(f\"Fisher's Exact Test for First and third Class: {pvalue}\")\n",
    "oddsratio, pvalue = stats.fisher_exact([second_class,third_class])\n",
    "print(f\"Fisher's Exact Test for second and third Class: {pvalue}\")"
   ]
  },
  {
   "cell_type": "code",
   "execution_count": 48,
   "metadata": {},
   "outputs": [
    {
     "name": "stdout",
     "output_type": "stream",
     "text": [
      "0.4257142857142857\n"
     ]
    }
   ],
   "source": [
    "first = 149/ (201+149)\n",
    "print(first)"
   ]
  },
  {
   "cell_type": "markdown",
   "metadata": {},
   "source": [
    "Each of the Fisher's Test reveals the statistical significance\n",
    "\n",
    "Another way to conceptualize the result is to look at percentages:\n",
    "\n",
    "| Passenger Class | Died |\n",
    "| --------------- | -----|\n",
    "| First Class     |  43% |\n",
    "| Second Class    |  60% |\n",
    "| Third Class     |  74% |"
   ]
  },
  {
   "cell_type": "markdown",
   "metadata": {},
   "source": [
    " Todo - Heatmap of Passenger Class split in age_range by gender and survival"
   ]
  },
  {
   "cell_type": "code",
   "execution_count": 49,
   "metadata": {},
   "outputs": [
    {
     "name": "stdout",
     "output_type": "stream",
     "text": [
      "            Age  Gender  Passenger_Class Lived_Died  Lived_Died_int  age_bins\n",
      "0      0.166667  Female                3      lived               1   (0, 10]\n",
      "1      0.333333    Male                3       died               0   (0, 10]\n",
      "2      0.416667    Male                3      lived               1   (0, 10]\n",
      "3      0.583333    Male                3       died               0   (0, 10]\n",
      "4      0.750000    Male                2      lived               1   (0, 10]\n",
      "...         ...     ...              ...        ...             ...       ...\n",
      "1323  71.000000    Male                1       died               0  (70, 80]\n",
      "1324  71.000000    Male                1       died               0  (70, 80]\n",
      "1325  71.000000    Male                2       died               0  (70, 80]\n",
      "1326  71.000000    Male                2       died               0  (70, 80]\n",
      "1327  74.000000    Male                3       died               0  (70, 80]\n",
      "\n",
      "[1328 rows x 6 columns]\n"
     ]
    },
    {
     "name": "stderr",
     "output_type": "stream",
     "text": [
      "/var/folders/d3/3fhlv1gn0k73glsv1lv807fc0000gn/T/ipykernel_42417/4125141749.py:7: FutureWarning: The default value of observed=False is deprecated and will change to observed=True in a future version of pandas. Specify observed=False to silence this warning and retain the current behavior\n",
      "  pivot_table = pd.pivot_table(passenger_df, values='Lived_Died_int', index='Gender', columns=['age_bins','Passenger_Class'])\n",
      "/var/folders/d3/3fhlv1gn0k73glsv1lv807fc0000gn/T/ipykernel_42417/4125141749.py:8: FutureWarning: DataFrame.applymap has been deprecated. Use DataFrame.map instead.\n",
      "  pivot_table.applymap(lambda x: 1-x) # invert values in heatmap\n"
     ]
    },
    {
     "data": {
      "text/plain": [
       "<Axes: xlabel='age_bins-Passenger_Class', ylabel='Gender'>"
      ]
     },
     "execution_count": 49,
     "metadata": {},
     "output_type": "execute_result"
    },
    {
     "data": {
      "image/png": "[encoded data removed]",
      "text/plain": [
       "<Figure size 1200x500 with 2 Axes>"
      ]
     },
     "metadata": {},
     "output_type": "display_data"
    }
   ],
   "source": [
    "passenger_df['Lived_Died_int'] = le.fit_transform(passenger_df['Lived_Died'])\n",
    "passenger_df['age_bins'] = pd.cut(x=passenger_df['Age'], bins=range(0,90,10))\n",
    "\n",
    "\n",
    "print(passenger_df)\n",
    "# use pivotttable\n",
    "pivot_table = pd.pivot_table(passenger_df, values='Lived_Died_int', index='Gender', columns=['age_bins','Passenger_Class'])\n",
    "pivot_table.applymap(lambda x: 1-x) # invert values in heatmap\n",
    "pivot_table\n",
    "\n",
    "# Create heatmap\n",
    "plt.figure(figsize=(12,5))\n",
    "x_axis_labels = ['PC 1: 0-9','PC 1: 10-19','PC 1: 20-29','PC 1 : 30-39','PC 1 : 40-49','PC 1: 50-59','PC 1: 60-69','PC 1: 70-79',\n",
    "                 'PC 2: 0-9','PC 2: 10-19','PC 2: 20-29','PC 2 : 30-39','PC 2 : 40-49','PC 2: 50-59','PC 2: 60-69','PC 2: 70-79',\n",
    "                 'PC 3: 0-9','PC 3: 10-19','PC 3: 20-29','PC 3 : 30-39','PC 3 : 40-49','PC 3: 50-59','PC 3: 60-69','PC 3: 70-79']\n",
    "sns.heatmap(pivot_table,annot=True, yticklabels=['Female', 'Male'], xticklabels=x_axis_labels, fmt='.2f', cmap='rocket')\n",
    "#plt.xticks(rotation=90)"
   ]
  },
  {
   "cell_type": "markdown",
   "metadata": {},
   "source": [
    "### T-test: Fare and Gender\n",
    "- While `Chi-Test` and `Fisher-Test` focus on `categorical` discrete variable, the `T-test` and `ANOVA` test target `continuous` data\n",
    "\n",
    "#### How was Fare affected by Gender and Passenger class?\n",
    "- did one gender pay more than the other?\n",
    "- is there a difference in fare between passenger classes?\n",
    "- is there an interaction between gender and passenger class on the resulting fare?\n",
    "\n"
   ]
  },
  {
   "cell_type": "code",
   "execution_count": 50,
   "metadata": {},
   "outputs": [],
   "source": [
    "passenger_df3 = pd.read_csv(\"../data/Titanic_Passengers.csv\")\n"
   ]
  },
  {
   "cell_type": "code",
   "execution_count": 51,
   "metadata": {},
   "outputs": [
    {
     "data": {
      "text/plain": [
       "Text(0, 0.5, 'Fare amounts in pounds')"
      ]
     },
     "execution_count": 51,
     "metadata": {},
     "output_type": "execute_result"
    },
    {
     "data": {
      "image/png": "[encoded data removed]",
      "text/plain": [
       "<Figure size 640x480 with 1 Axes>"
      ]
     },
     "metadata": {},
     "output_type": "display_data"
    }
   ],
   "source": [
    "sns.boxplot(y=passenger_df3['Fare_decimal'], x = passenger_df3['Gender'])\n",
    "plt.ylabel('Fare amounts in pounds')"
   ]
  },
  {
   "cell_type": "code",
   "execution_count": 52,
   "metadata": {},
   "outputs": [
    {
     "name": "stdout",
     "output_type": "stream",
     "text": [
      "Male Summary count    839.000000\n",
      "mean      26.226067\n",
      "std       42.514485\n",
      "min        1.000000\n",
      "25%        7.895000\n",
      "50%       12.350000\n",
      "75%       26.550000\n",
      "max      512.330000\n",
      "Name: Fare_decimal, dtype: float64\n"
     ]
    }
   ],
   "source": [
    "male = passenger_df3[passenger_df3['Gender'] == 'Male']\n",
    "print(f'Male Summary {male['Fare_decimal'].describe()}')"
   ]
  },
  {
   "cell_type": "code",
   "execution_count": 53,
   "metadata": {},
   "outputs": [
    {
     "name": "stdout",
     "output_type": "stream",
     "text": [
      "Female Summary count    482.000000\n",
      "mean      45.118299\n",
      "std       63.149875\n",
      "min        1.000000\n",
      "25%       10.460000\n",
      "50%       21.555000\n",
      "75%       54.525000\n",
      "max      512.330000\n",
      "Name: Fare_decimal, dtype: float64\n"
     ]
    }
   ],
   "source": [
    "female = passenger_df3[passenger_df3['Gender'] == 'Female']\n",
    "print(f'Female Summary {female['Fare_decimal'].describe()}')"
   ]
  },
  {
   "cell_type": "code",
   "execution_count": 54,
   "metadata": {},
   "outputs": [],
   "source": [
    "from scipy.stats import ttest_ind"
   ]
  },
  {
   "cell_type": "code",
   "execution_count": 55,
   "metadata": {},
   "outputs": [],
   "source": [
    "passenger_df3.dropna(inplace=True)\n",
    "male = passenger_df3[passenger_df3['Gender'] == 'Male']\n",
    "female = passenger_df3[passenger_df3['Gender'] == 'Female']\n"
   ]
  },
  {
   "cell_type": "code",
   "execution_count": 56,
   "metadata": {},
   "outputs": [
    {
     "name": "stdout",
     "output_type": "stream",
     "text": [
      "T-test for Fare Paid p-value 6.093364811911871e-13\n"
     ]
    }
   ],
   "source": [
    "# Run the test\n",
    "statistics, pvalue = ttest_ind(male['Fare_decimal'], female['Fare_decimal'])\n",
    "print(f'T-test for Fare Paid p-value {pvalue}')"
   ]
  },
  {
   "cell_type": "markdown",
   "metadata": {},
   "source": [
    "## ANOVA Example: Price Differecne between passenger class\n",
    "- T-test specializes in comparing `two` populations\n",
    "- `ANOVA` (Analysis of Variation) test will allow you to compare the influence of `three of more` populations\n",
    "\n",
    "Fare prices are `continous numerical dependent variable`. They are affected by the 3 passenger classes\n",
    "\n",
    "Install new package:\n",
    "```bash\n",
    "conda install statsmodels\n",
    "```\n"
   ]
  },
  {
   "cell_type": "code",
   "execution_count": null,
   "metadata": {},
   "outputs": [],
   "source": [
    "from statsmodels.formula.api import ols\n",
    "import matplotlib.pyplot as plt\n",
    "import pandas as pd\n",
    "import seaborn as sns\n",
    "import statsmodels.api as sm"
   ]
  },
  {
   "cell_type": "code",
   "execution_count": 58,
   "metadata": {},
   "outputs": [],
   "source": [
    "passenger_df = pd.read_csv(\"../data/Titanic_Passengers.csv\")\n"
   ]
  },
  {
   "cell_type": "code",
   "execution_count": 59,
   "metadata": {},
   "outputs": [
    {
     "data": {
      "text/html": [
       "<div>\n",
       "<style scoped>\n",
       "    .dataframe tbody tr th:only-of-type {\n",
       "        vertical-align: middle;\n",
       "    }\n",
       "\n",
       "    .dataframe tbody tr th {\n",
       "        vertical-align: top;\n",
       "    }\n",
       "\n",
       "    .dataframe thead th {\n",
       "        text-align: right;\n",
       "    }\n",
       "</style>\n",
       "<table border=\"1\" class=\"dataframe\">\n",
       "  <thead>\n",
       "    <tr style=\"text-align: right;\">\n",
       "      <th></th>\n",
       "      <th>df</th>\n",
       "      <th>sum_sq</th>\n",
       "      <th>mean_sq</th>\n",
       "      <th>F</th>\n",
       "      <th>PR(&gt;F)</th>\n",
       "    </tr>\n",
       "  </thead>\n",
       "  <tbody>\n",
       "    <tr>\n",
       "      <th>C(Passenger_Class)</th>\n",
       "      <td>2.0</td>\n",
       "      <td>1.201111e+06</td>\n",
       "      <td>600555.522821</td>\n",
       "      <td>338.116478</td>\n",
       "      <td>2.964452e-119</td>\n",
       "    </tr>\n",
       "    <tr>\n",
       "      <th>Residual</th>\n",
       "      <td>1318.0</td>\n",
       "      <td>2.341004e+06</td>\n",
       "      <td>1776.179397</td>\n",
       "      <td>NaN</td>\n",
       "      <td>NaN</td>\n",
       "    </tr>\n",
       "  </tbody>\n",
       "</table>\n",
       "</div>"
      ],
      "text/plain": [
       "                        df        sum_sq        mean_sq           F  \\\n",
       "C(Passenger_Class)     2.0  1.201111e+06  600555.522821  338.116478   \n",
       "Residual            1318.0  2.341004e+06    1776.179397         NaN   \n",
       "\n",
       "                           PR(>F)  \n",
       "C(Passenger_Class)  2.964452e-119  \n",
       "Residual                      NaN  "
      ]
     },
     "execution_count": 59,
     "metadata": {},
     "output_type": "execute_result"
    }
   ],
   "source": [
    "# Load your OLS (Ordinary Least Squares) model\n",
    "model = ols('Fare_decimal ~ C(Passenger_Class)', data=passenger_df).fit()\n",
    "# ANOVA Table\n",
    "anova_table = sm.stats.anova_lm(model, typ=1) #typ = # is the anova table format\n",
    "anova_table"
   ]
  },
  {
   "cell_type": "markdown",
   "metadata": {},
   "source": [
    "`PR(>F)` is your `P-value`\n",
    "\n",
    "#### ANOVA Notation (R-Style Formulas):\n",
    "- The `~` separates the left side from the right side\n",
    "- The `+` char adds a new separated column to the design matrix\n",
    "- The `:` char adds a new interaction column to the model matrix\n",
    "- The `*` char signifies that both individual columns are combined...\n",
    "\n",
    "The string: `Fare_decimal ~ C(Passenger_class)` translates to:\n",
    "- Fare_decimal variable is affected by the categorical variable (`C`) Passenger Class\n",
    "\n",
    "Conclusion - There is some difference in price relative to the passenger class"
   ]
  },
  {
   "cell_type": "code",
   "execution_count": 60,
   "metadata": {},
   "outputs": [
    {
     "data": {
      "text/plain": [
       "<Axes: xlabel='Passenger_Class', ylabel='Fare_decimal'>"
      ]
     },
     "execution_count": 60,
     "metadata": {},
     "output_type": "execute_result"
    },
    {
     "data": {
      "image/png": "[encoded data removed]",
      "text/plain": [
       "<Figure size 640x480 with 1 Axes>"
      ]
     },
     "metadata": {},
     "output_type": "display_data"
    }
   ],
   "source": [
    "# Create a box plot of fare paid by passenger class\n",
    "sns.boxplot(y=passenger_df['Fare_decimal'], x = passenger_df['Passenger_Class'])"
   ]
  },
  {
   "cell_type": "markdown",
   "metadata": {},
   "source": [
    "Do a `post-hoc` test on this. For ANOVA we use the `Tukey HSD` test to compare each individual population from a statisticall significant ANOVA.\n"
   ]
  },
  {
   "cell_type": "code",
   "execution_count": 61,
   "metadata": {},
   "outputs": [
    {
     "data": {
      "text/html": [
       "<div>\n",
       "<style scoped>\n",
       "    .dataframe tbody tr th:only-of-type {\n",
       "        vertical-align: middle;\n",
       "    }\n",
       "\n",
       "    .dataframe tbody tr th {\n",
       "        vertical-align: top;\n",
       "    }\n",
       "\n",
       "    .dataframe thead th {\n",
       "        text-align: right;\n",
       "    }\n",
       "</style>\n",
       "<table border=\"1\" class=\"dataframe\">\n",
       "  <thead>\n",
       "    <tr style=\"text-align: right;\">\n",
       "      <th></th>\n",
       "      <th>Age</th>\n",
       "      <th>Passenger_Class</th>\n",
       "      <th>Fare_decimal</th>\n",
       "    </tr>\n",
       "  </thead>\n",
       "  <tbody>\n",
       "    <tr>\n",
       "      <th>0</th>\n",
       "      <td>0.166667</td>\n",
       "      <td>3</td>\n",
       "      <td>20.58</td>\n",
       "    </tr>\n",
       "    <tr>\n",
       "      <th>1</th>\n",
       "      <td>0.333333</td>\n",
       "      <td>3</td>\n",
       "      <td>14.40</td>\n",
       "    </tr>\n",
       "    <tr>\n",
       "      <th>2</th>\n",
       "      <td>0.416667</td>\n",
       "      <td>3</td>\n",
       "      <td>8.52</td>\n",
       "    </tr>\n",
       "    <tr>\n",
       "      <th>3</th>\n",
       "      <td>0.583333</td>\n",
       "      <td>3</td>\n",
       "      <td>13.78</td>\n",
       "    </tr>\n",
       "    <tr>\n",
       "      <th>4</th>\n",
       "      <td>0.750000</td>\n",
       "      <td>2</td>\n",
       "      <td>18.75</td>\n",
       "    </tr>\n",
       "    <tr>\n",
       "      <th>...</th>\n",
       "      <td>...</td>\n",
       "      <td>...</td>\n",
       "      <td>...</td>\n",
       "    </tr>\n",
       "    <tr>\n",
       "      <th>1323</th>\n",
       "      <td>71.000000</td>\n",
       "      <td>1</td>\n",
       "      <td>49.50</td>\n",
       "    </tr>\n",
       "    <tr>\n",
       "      <th>1324</th>\n",
       "      <td>71.000000</td>\n",
       "      <td>1</td>\n",
       "      <td>34.65</td>\n",
       "    </tr>\n",
       "    <tr>\n",
       "      <th>1325</th>\n",
       "      <td>71.000000</td>\n",
       "      <td>2</td>\n",
       "      <td>10.50</td>\n",
       "    </tr>\n",
       "    <tr>\n",
       "      <th>1326</th>\n",
       "      <td>71.000000</td>\n",
       "      <td>2</td>\n",
       "      <td>12.35</td>\n",
       "    </tr>\n",
       "    <tr>\n",
       "      <th>1327</th>\n",
       "      <td>74.000000</td>\n",
       "      <td>3</td>\n",
       "      <td>7.78</td>\n",
       "    </tr>\n",
       "  </tbody>\n",
       "</table>\n",
       "<p>1300 rows × 3 columns</p>\n",
       "</div>"
      ],
      "text/plain": [
       "            Age  Passenger_Class  Fare_decimal\n",
       "0      0.166667                3         20.58\n",
       "1      0.333333                3         14.40\n",
       "2      0.416667                3          8.52\n",
       "3      0.583333                3         13.78\n",
       "4      0.750000                2         18.75\n",
       "...         ...              ...           ...\n",
       "1323  71.000000                1         49.50\n",
       "1324  71.000000                1         34.65\n",
       "1325  71.000000                2         10.50\n",
       "1326  71.000000                2         12.35\n",
       "1327  74.000000                3          7.78\n",
       "\n",
       "[1300 rows x 3 columns]"
      ]
     },
     "execution_count": 61,
     "metadata": {},
     "output_type": "execute_result"
    }
   ],
   "source": [
    "from statsmodels.formula.api import ols\n",
    "import matplotlib.pyplot as plt\n",
    "import pandas as pd\n",
    "import seaborn as sns\n",
    "import statsmodels.api as sm\n",
    "from statsmodels.stats.multicomp import MultiComparison\n",
    "from statsmodels.stats.multicomp import pairwise_tukeyhsd\n",
    "\n",
    "\n",
    "passenger_df = pd.read_csv(\"../data/Titanic_Passengers.csv\")\n",
    "# Drop unused columns\n",
    "passenger_df.drop(columns=['Name', 'Born', 'Died', 'Fare', 'Lived_Died', 'Gender'], inplace=True)\n",
    "# Drop rows with undefined values\n",
    "passenger_df.dropna(inplace=True)\n",
    "passenger_df"
   ]
  },
  {
   "cell_type": "code",
   "execution_count": 62,
   "metadata": {},
   "outputs": [
    {
     "data": {
      "text/html": [
       "<table class=\"simpletable\">\n",
       "<caption>Multiple Comparison of Means - Tukey HSD, FWER=0.05</caption>\n",
       "<tr>\n",
       "  <th>group1</th> <th>group2</th> <th>meandiff</th> <th>p-adj</th>   <th>lower</th>    <th>upper</th>  <th>reject</th>\n",
       "</tr>\n",
       "<tr>\n",
       "     <td>1</td>      <td>2</td>   <td>-64.5942</td>  <td>0.0</td>  <td>-72.6865</td> <td>-56.5018</td>  <td>True</td> \n",
       "</tr>\n",
       "<tr>\n",
       "     <td>1</td>      <td>3</td>   <td>-72.9052</td>  <td>0.0</td>  <td>-79.4909</td> <td>-66.3195</td>  <td>True</td> \n",
       "</tr>\n",
       "<tr>\n",
       "     <td>2</td>      <td>3</td>    <td>-8.311</td>  <td>0.016</td> <td>-15.3695</td>  <td>-1.2525</td>  <td>True</td> \n",
       "</tr>\n",
       "</table>"
      ],
      "text/latex": [
       "\\begin{center}\n",
       "\\begin{tabular}{ccccccc}\n",
       "\\toprule\n",
       "\\textbf{group1} & \\textbf{group2} & \\textbf{meandiff} & \\textbf{p-adj} & \\textbf{lower} & \\textbf{upper} & \\textbf{reject}  \\\\\n",
       "\\midrule\n",
       "       1        &        2        &      -64.5942     &      0.0       &    -72.6865    &    -56.5018    &       True       \\\\\n",
       "       1        &        3        &      -72.9052     &      0.0       &    -79.4909    &    -66.3195    &       True       \\\\\n",
       "       2        &        3        &       -8.311      &     0.016      &    -15.3695    &    -1.2525     &       True       \\\\\n",
       "\\bottomrule\n",
       "\\end{tabular}\n",
       "%\\caption{Multiple Comparison of Means - Tukey HSD, FWER=0.05}\n",
       "\\end{center}"
      ],
      "text/plain": [
       "<class 'statsmodels.iolib.table.SimpleTable'>"
      ]
     },
     "execution_count": 62,
     "metadata": {},
     "output_type": "execute_result"
    }
   ],
   "source": [
    "mc = MultiComparison(passenger_df['Fare_decimal'], passenger_df['Passenger_Class'])\n",
    "result = mc.tukeyhsd()\n",
    "result.summary()\n",
    "# Compares each of the groups to each other\n"
   ]
  },
  {
   "cell_type": "markdown",
   "metadata": {},
   "source": [
    "If no statisitcal signficance is found, than `reject` column will indicate `False`, otherwise it will be `True`"
   ]
  }
 ],
 "metadata": {
  "kernelspec": {
   "display_name": "module7",
   "language": "python",
   "name": "python3"
  },
  "language_info": {
   "codemirror_mode": {
    "name": "ipython",
    "version": 3
   },
   "file_extension": ".py",
   "mimetype": "text/x-python",
   "name": "python",
   "nbconvert_exporter": "python",
   "pygments_lexer": "ipython3",
   "version": "3.12.7"
  }
 },
 "nbformat": 4,
 "nbformat_minor": 2
}
