{
 "cells": [
  {
   "cell_type": "code",
   "execution_count": 1,
   "metadata": {},
   "outputs": [
    {
     "name": "stdout",
     "output_type": "stream",
     "text": [
      "Hello Jupyter\n"
     ]
    }
   ],
   "source": [
    "print('Hello Jupyter')"
   ]
  },
  {
   "cell_type": "markdown",
   "metadata": {},
   "source": [
    "# Jupyter Notes\n",
    "Jupyter noteboks use the `.ipynb` extension\n",
    "\n",
    "## header size 2\n",
    "\n",
    "Jupyter Shortcuts: \n",
    "- option-enter execute and open new cell \n",
    "- shift enter - just execute\n",
    "- `Esc` then `y` - makes cell `code` mode\n",
    "- `Esc` then `m` - makes cell `markdown` mode\n",
    "\n"
   ]
  },
  {
   "cell_type": "markdown",
   "metadata": {},
   "source": [
    "## Bash commands\n",
    "Prefix them with `!` "
   ]
  },
  {
   "cell_type": "code",
   "execution_count": 2,
   "metadata": {},
   "outputs": [
    {
     "name": "stdout",
     "output_type": "stream",
     "text": [
      "# packages in environment at /Users/leighkomperda/anaconda3/envs/DataMining:\n",
      "#\n",
      "# Name                    Version                   Build  Channel\n",
      "aiohttp                   3.9.3                    pypi_0    pypi\n",
      "aiosignal                 1.3.1                    pypi_0    pypi\n",
      "anyio                     4.2.0           py310hca03da5_0  \n",
      "appnope                   0.1.2           py310hca03da5_1001  \n",
      "argon2-cffi               21.3.0             pyhd3eb1b0_0  \n",
      "argon2-cffi-bindings      21.2.0          py310h1a28f6b_0  \n",
      "asttokens                 2.0.5              pyhd3eb1b0_0  \n",
      "async-lru                 2.0.4           py310hca03da5_0  \n",
      "async-timeout             4.0.3                    pypi_0    pypi\n",
      "attrs                     23.1.0          py310hca03da5_0  \n",
      "autograd                  1.6.2                    pypi_0    pypi\n",
      "autograd-gamma            0.5.0                    pypi_0    pypi\n",
      "babel                     2.11.0          py310hca03da5_0  \n",
      "backcall                  0.2.0                    pypi_0    pypi\n",
      "backoff                   2.2.1                    pypi_0    pypi\n",
      "beautifulsoup4            4.12.2          py310hca03da5_0  \n",
      "black                     24.4.0                   pypi_0    pypi\n",
      "blas                      1.0                    openblas  \n",
      "bleach                    4.1.0              pyhd3eb1b0_0  \n",
      "bottleneck                1.3.7           py310hbda83bc_0  \n",
      "bzip2                     1.0.8                h620ffc9_4  \n",
      "ca-certificates           2024.2.2             hf0a4a13_0    conda-forge\n",
      "cattrs                    23.2.3                   pypi_0    pypi\n",
      "certifi                   2024.2.2           pyhd8ed1ab_0    conda-forge\n",
      "cffi                      1.16.0          py310h80987f9_0  \n",
      "charset-normalizer        2.0.4              pyhd3eb1b0_0  \n",
      "chembl-webresource-client 0.10.9                   pypi_0    pypi\n",
      "click                     8.1.7                    pypi_0    pypi\n",
      "cloudpickle               2.2.1           py310hca03da5_0  \n",
      "comm                      0.1.2           py310hca03da5_0  \n",
      "contourpy                 1.2.0                    pypi_0    pypi\n",
      "cycler                    0.12.1                   pypi_0    pypi\n",
      "cython                    3.0.10          py310h80987f9_0  \n",
      "debugpy                   1.6.7           py310h313beb8_0  \n",
      "decorator                 5.1.1              pyhd3eb1b0_0  \n",
      "defusedxml                0.7.1              pyhd3eb1b0_0  \n",
      "docopt                    0.6.2                    pypi_0    pypi\n",
      "easydict                  1.13                     pypi_0    pypi\n",
      "et_xmlfile                1.1.0           py310hca03da5_0  \n",
      "exceptiongroup            1.2.0           py310hca03da5_0  \n",
      "executing                 0.8.3              pyhd3eb1b0_0  \n",
      "filelock                  3.13.1                   pypi_0    pypi\n",
      "fonttools                 4.48.1                   pypi_0    pypi\n",
      "formulaic                 1.0.1                    pypi_0    pypi\n",
      "frozenlist                1.4.1                    pypi_0    pypi\n",
      "fsspec                    2024.2.0                 pypi_0    pypi\n",
      "future                    0.18.3                   pypi_0    pypi\n",
      "idna                      3.4             py310hca03da5_0  \n",
      "imbalanced-learn          0.12.0                   pypi_0    pypi\n",
      "interface-meta            1.3.0                    pypi_0    pypi\n",
      "ipykernel                 6.28.0          py310hca03da5_0  \n",
      "ipython                   8.12.3                   pypi_0    pypi\n",
      "ipywidgets                8.0.3              pyhd8ed1ab_0    conda-forge\n",
      "islp                      0.3.22                   pypi_0    pypi\n",
      "jedi                      0.18.1          py310hca03da5_1  \n",
      "jinja2                    3.1.3           py310hca03da5_0  \n",
      "joblib                    1.3.2                    pypi_0    pypi\n",
      "json5                     0.9.6              pyhd3eb1b0_0  \n",
      "jsonschema                4.19.2          py310hca03da5_0  \n",
      "jsonschema-specifications 2023.7.1        py310hca03da5_0  \n",
      "jupyter-lsp               2.2.0           py310hca03da5_0  \n",
      "jupyter_client            8.6.0           py310hca03da5_0  \n",
      "jupyter_core              5.5.0           py310hca03da5_0  \n",
      "jupyter_events            0.8.0           py310hca03da5_0  \n",
      "jupyter_server            2.10.0          py310hca03da5_0  \n",
      "jupyter_server_terminals  0.4.4           py310hca03da5_1  \n",
      "jupyterlab                4.0.11          py310hca03da5_0  \n",
      "jupyterlab_pygments       0.1.2                      py_0  \n",
      "jupyterlab_server         2.25.1          py310hca03da5_0  \n",
      "jupyterlab_widgets        3.0.10             pyhd8ed1ab_0    conda-forge\n",
      "kiwisolver                1.4.5                    pypi_0    pypi\n",
      "libcxx                    14.0.6               h848a8c0_0  \n",
      "libffi                    3.4.4                hca03da5_0  \n",
      "libgfortran               5.0.0           11_3_0_hca03da5_28  \n",
      "libgfortran5              11.3.0              h009349e_28  \n",
      "libllvm14                 14.0.6               h7ec7a93_3  \n",
      "libopenblas               0.3.21               h269037a_0  \n",
      "libsodium                 1.0.18               h1a28f6b_0  \n",
      "lifelines                 0.28.0                   pypi_0    pypi\n",
      "lightning-utilities       0.10.1                   pypi_0    pypi\n",
      "llvm-openmp               14.0.6               hc6e5704_0  \n",
      "llvmlite                  0.42.0          py310h313beb8_0  \n",
      "lxml                      5.1.0                    pypi_0    pypi\n",
      "markupsafe                2.1.3           py310h80987f9_0  \n",
      "matplotlib                3.8.2                    pypi_0    pypi\n",
      "matplotlib-inline         0.1.6           py310hca03da5_0  \n",
      "mistune                   2.0.4           py310hca03da5_0  \n",
      "mlxtend                   0.23.1                   pypi_0    pypi\n",
      "monotonic                 1.6                      pypi_0    pypi\n",
      "mpmath                    1.3.0                    pypi_0    pypi\n",
      "multidict                 6.0.5                    pypi_0    pypi\n",
      "mypy-extensions           1.0.0                    pypi_0    pypi\n",
      "nbclient                  0.8.0           py310hca03da5_0  \n",
      "nbconvert                 7.16.3                   pypi_0    pypi\n",
      "nbformat                  5.9.2           py310hca03da5_0  \n",
      "ncurses                   6.4                  h313beb8_0  \n",
      "nest-asyncio              1.5.6           py310hca03da5_0  \n",
      "networkx                  3.2.1                    pypi_0    pypi\n",
      "notebook                  7.0.6           py310hca03da5_0  \n",
      "notebook-shim             0.2.3           py310hca03da5_0  \n",
      "numba                     0.59.1          py310h313beb8_0  \n",
      "numexpr                   2.8.7           py310hecc3335_0  \n",
      "numpy                     1.26.4                   pypi_0    pypi\n",
      "numpy-base                1.26.3          py310ha9811e2_0  \n",
      "openpyxl                  3.0.10          py310h1a28f6b_0  \n",
      "openssl                   3.2.1                h0d3ecfb_1    conda-forge\n",
      "overrides                 7.4.0           py310hca03da5_0  \n",
      "packaging                 23.1            py310hca03da5_0  \n",
      "pandas                    2.2.0                    pypi_0    pypi\n",
      "pandocfilters             1.5.0              pyhd3eb1b0_0  \n",
      "parso                     0.8.3              pyhd3eb1b0_0  \n",
      "pathspec                  0.12.1                   pypi_0    pypi\n",
      "patsy                     0.5.3           py310hca03da5_0  \n",
      "pexpect                   4.8.0              pyhd3eb1b0_3  \n",
      "pickleshare               0.7.5                    pypi_0    pypi\n",
      "pillow                    10.2.0                   pypi_0    pypi\n",
      "pip                       23.3.1          py310hca03da5_0  \n",
      "pipreqs                   0.5.0                    pypi_0    pypi\n",
      "pipreqsnb                 0.2.4                    pypi_0    pypi\n",
      "platformdirs              3.10.0          py310hca03da5_0  \n",
      "ploomber-core             0.2.25                   pypi_0    pypi\n",
      "ploomber-extension        0.1.0                    pypi_0    pypi\n",
      "plotly                    5.19.0          py310h33ce5c2_0  \n",
      "pmdarima                  2.0.4           py310hbda83bc_0  \n",
      "posthog                   3.5.0                    pypi_0    pypi\n",
      "progressbar2              4.3.2                    pypi_0    pypi\n",
      "prometheus_client         0.14.1          py310hca03da5_0  \n",
      "prompt-toolkit            3.0.43          py310hca03da5_0  \n",
      "prompt_toolkit            3.0.43               hd3eb1b0_0  \n",
      "psutil                    5.9.0           py310h1a28f6b_0  \n",
      "ptyprocess                0.7.0              pyhd3eb1b0_2  \n",
      "pure_eval                 0.2.2              pyhd3eb1b0_0  \n",
      "pycparser                 2.21               pyhd3eb1b0_0  \n",
      "pygam                     0.9.0                    pypi_0    pypi\n",
      "pygments                  2.15.1          py310hca03da5_1  \n",
      "pyparsing                 3.1.1                    pypi_0    pypi\n",
      "python                    3.10.13              hb885b13_0  \n",
      "python-dateutil           2.8.2              pyhd3eb1b0_0  \n",
      "python-fastjsonschema     2.16.2          py310hca03da5_0  \n",
      "python-json-logger        2.0.7           py310hca03da5_0  \n",
      "python-tzdata             2023.3             pyhd3eb1b0_0  \n",
      "python-utils              3.8.2                    pypi_0    pypi\n",
      "pytorch-lightning         2.2.0.post0              pypi_0    pypi\n",
      "pytz                      2023.3.post1    py310hca03da5_0  \n",
      "pyyaml                    6.0.1           py310h80987f9_0  \n",
      "pyzmq                     25.1.2          py310h313beb8_0  \n",
      "readline                  8.2                  h1a28f6b_0  \n",
      "referencing               0.30.2          py310hca03da5_0  \n",
      "requests                  2.31.0          py310hca03da5_1  \n",
      "requests-cache            1.2.0                    pypi_0    pypi\n",
      "rfc3339-validator         0.1.4           py310hca03da5_0  \n",
      "rfc3986-validator         0.1.1           py310hca03da5_0  \n",
      "rpds-py                   0.10.6          py310hf0e4da2_0  \n",
      "scikit-learn              1.4.1.post1              pypi_0    pypi\n",
      "scipy                     1.11.4          py310h20cbe94_0  \n",
      "seaborn                   0.13.2                   pypi_0    pypi\n",
      "send2trash                1.8.2           py310hca03da5_0  \n",
      "setuptools                68.2.2          py310hca03da5_0  \n",
      "shap                      0.42.1          py310h46d7db6_0  \n",
      "six                       1.16.0             pyhd3eb1b0_1  \n",
      "sklearn-evaluation        0.12.1                   pypi_0    pypi\n",
      "slicer                    0.0.7              pyhd3eb1b0_0  \n",
      "sniffio                   1.3.0           py310hca03da5_0  \n",
      "soupsieve                 2.5             py310hca03da5_0  \n",
      "sqlite                    3.41.2               h80987f9_0  \n",
      "stack_data                0.2.0              pyhd3eb1b0_0  \n",
      "statsmodels               0.14.0          py310hbda83bc_0  \n",
      "sympy                     1.12                     pypi_0    pypi\n",
      "tabulate                  0.9.0                    pypi_0    pypi\n",
      "tbb                       2021.8.0             h48ca7d4_0  \n",
      "tenacity                  8.2.2           py310hca03da5_0  \n",
      "terminado                 0.17.1          py310hca03da5_0  \n",
      "threadpoolctl             3.3.0                    pypi_0    pypi\n",
      "tinycss2                  1.2.1           py310hca03da5_0  \n",
      "tk                        8.6.12               hb8d0fd4_0  \n",
      "tomli                     2.0.1           py310hca03da5_0  \n",
      "torch                     2.2.0                    pypi_0    pypi\n",
      "torchmetrics              1.3.1                    pypi_0    pypi\n",
      "tornado                   6.3.3           py310h80987f9_0  \n",
      "tqdm                      4.66.2                   pypi_0    pypi\n",
      "traitlets                 5.7.1           py310hca03da5_0  \n",
      "typing-extensions         4.9.0           py310hca03da5_1  \n",
      "typing_extensions         4.9.0           py310hca03da5_1  \n",
      "tzdata                    2024.1                   pypi_0    pypi\n",
      "ucimlrepo                 0.0.6                    pypi_0    pypi\n",
      "url-normalize             1.4.3                    pypi_0    pypi\n",
      "urllib3                   2.1.0           py310hca03da5_0  \n",
      "wcwidth                   0.2.5              pyhd3eb1b0_0  \n",
      "webencodings              0.5.1           py310hca03da5_1  \n",
      "websocket-client          0.58.0          py310hca03da5_4  \n",
      "wheel                     0.41.2          py310hca03da5_0  \n",
      "widgetsnbextension        4.0.10             pyhd8ed1ab_0    conda-forge\n",
      "wrapt                     1.16.0                   pypi_0    pypi\n",
      "xlrd                      2.0.1                    pypi_0    pypi\n",
      "xz                        5.4.5                h80987f9_0  \n",
      "yaml                      0.2.5                h1a28f6b_0  \n",
      "yarg                      0.1.9                    pypi_0    pypi\n",
      "yarl                      1.9.4                    pypi_0    pypi\n",
      "zeromq                    4.3.5                h313beb8_0  \n",
      "zlib                      1.2.13               h5a0b063_0  \n"
     ]
    }
   ],
   "source": [
    "!conda list"
   ]
  },
  {
   "cell_type": "markdown",
   "metadata": {},
   "source": [
    "## Magic Commands\n",
    "Prefix them with `%`\n",
    "\n",
    "To get the list of magic commands use `%lsmagic`"
   ]
  },
  {
   "cell_type": "code",
   "execution_count": 3,
   "metadata": {},
   "outputs": [
    {
     "data": {
      "application/json": {
       "cell": {
        "!": "OSMagics",
        "HTML": "Other",
        "SVG": "Other",
        "bash": "Other",
        "capture": "ExecutionMagics",
        "debug": "ExecutionMagics",
        "file": "Other",
        "html": "DisplayMagics",
        "javascript": "DisplayMagics",
        "js": "DisplayMagics",
        "latex": "DisplayMagics",
        "markdown": "DisplayMagics",
        "perl": "Other",
        "prun": "ExecutionMagics",
        "pypy": "Other",
        "python": "Other",
        "python2": "Other",
        "python3": "Other",
        "ruby": "Other",
        "script": "ScriptMagics",
        "sh": "Other",
        "svg": "DisplayMagics",
        "sx": "OSMagics",
        "system": "OSMagics",
        "time": "ExecutionMagics",
        "timeit": "ExecutionMagics",
        "writefile": "OSMagics"
       },
       "line": {
        "alias": "OSMagics",
        "alias_magic": "BasicMagics",
        "autoawait": "AsyncMagics",
        "autocall": "AutoMagics",
        "automagic": "AutoMagics",
        "autosave": "KernelMagics",
        "bookmark": "OSMagics",
        "cat": "Other",
        "cd": "OSMagics",
        "clear": "KernelMagics",
        "colors": "BasicMagics",
        "conda": "PackagingMagics",
        "config": "ConfigMagics",
        "connect_info": "KernelMagics",
        "cp": "Other",
        "debug": "ExecutionMagics",
        "dhist": "OSMagics",
        "dirs": "OSMagics",
        "doctest_mode": "BasicMagics",
        "ed": "Other",
        "edit": "KernelMagics",
        "env": "OSMagics",
        "gui": "BasicMagics",
        "hist": "Other",
        "history": "HistoryMagics",
        "killbgscripts": "ScriptMagics",
        "ldir": "Other",
        "less": "KernelMagics",
        "lf": "Other",
        "lk": "Other",
        "ll": "Other",
        "load": "CodeMagics",
        "load_ext": "ExtensionMagics",
        "loadpy": "CodeMagics",
        "logoff": "LoggingMagics",
        "logon": "LoggingMagics",
        "logstart": "LoggingMagics",
        "logstate": "LoggingMagics",
        "logstop": "LoggingMagics",
        "ls": "Other",
        "lsmagic": "BasicMagics",
        "lx": "Other",
        "macro": "ExecutionMagics",
        "magic": "BasicMagics",
        "man": "KernelMagics",
        "matplotlib": "PylabMagics",
        "mkdir": "Other",
        "more": "KernelMagics",
        "mv": "Other",
        "notebook": "BasicMagics",
        "page": "BasicMagics",
        "pastebin": "CodeMagics",
        "pdb": "ExecutionMagics",
        "pdef": "NamespaceMagics",
        "pdoc": "NamespaceMagics",
        "pfile": "NamespaceMagics",
        "pinfo": "NamespaceMagics",
        "pinfo2": "NamespaceMagics",
        "pip": "PackagingMagics",
        "popd": "OSMagics",
        "pprint": "BasicMagics",
        "precision": "BasicMagics",
        "prun": "ExecutionMagics",
        "psearch": "NamespaceMagics",
        "psource": "NamespaceMagics",
        "pushd": "OSMagics",
        "pwd": "OSMagics",
        "pycat": "OSMagics",
        "pylab": "PylabMagics",
        "qtconsole": "KernelMagics",
        "quickref": "BasicMagics",
        "recall": "HistoryMagics",
        "rehashx": "OSMagics",
        "reload_ext": "ExtensionMagics",
        "rep": "Other",
        "rerun": "HistoryMagics",
        "reset": "NamespaceMagics",
        "reset_selective": "NamespaceMagics",
        "rm": "Other",
        "rmdir": "Other",
        "run": "ExecutionMagics",
        "save": "CodeMagics",
        "sc": "OSMagics",
        "set_env": "OSMagics",
        "store": "StoreMagics",
        "sx": "OSMagics",
        "system": "OSMagics",
        "tb": "ExecutionMagics",
        "time": "ExecutionMagics",
        "timeit": "ExecutionMagics",
        "unalias": "OSMagics",
        "unload_ext": "ExtensionMagics",
        "who": "NamespaceMagics",
        "who_ls": "NamespaceMagics",
        "whos": "NamespaceMagics",
        "xdel": "NamespaceMagics",
        "xmode": "BasicMagics"
       }
      },
      "text/plain": [
       "Available line magics:\n",
       "%alias  %alias_magic  %autoawait  %autocall  %automagic  %autosave  %bookmark  %cat  %cd  %clear  %colors  %conda  %config  %connect_info  %cp  %debug  %dhist  %dirs  %doctest_mode  %ed  %edit  %env  %gui  %hist  %history  %killbgscripts  %ldir  %less  %lf  %lk  %ll  %load  %load_ext  %loadpy  %logoff  %logon  %logstart  %logstate  %logstop  %ls  %lsmagic  %lx  %macro  %magic  %man  %matplotlib  %mkdir  %more  %mv  %notebook  %page  %pastebin  %pdb  %pdef  %pdoc  %pfile  %pinfo  %pinfo2  %pip  %popd  %pprint  %precision  %prun  %psearch  %psource  %pushd  %pwd  %pycat  %pylab  %qtconsole  %quickref  %recall  %rehashx  %reload_ext  %rep  %rerun  %reset  %reset_selective  %rm  %rmdir  %run  %save  %sc  %set_env  %store  %sx  %system  %tb  %time  %timeit  %unalias  %unload_ext  %who  %who_ls  %whos  %xdel  %xmode\n",
       "\n",
       "Available cell magics:\n",
       "%%!  %%HTML  %%SVG  %%bash  %%capture  %%debug  %%file  %%html  %%javascript  %%js  %%latex  %%markdown  %%perl  %%prun  %%pypy  %%python  %%python2  %%python3  %%ruby  %%script  %%sh  %%svg  %%sx  %%system  %%time  %%timeit  %%writefile\n",
       "\n",
       "Automagic is ON, % prefix IS NOT needed for line magics."
      ]
     },
     "execution_count": 3,
     "metadata": {},
     "output_type": "execute_result"
    }
   ],
   "source": [
    "%lsmagic"
   ]
  },
  {
   "cell_type": "code",
   "execution_count": 4,
   "metadata": {},
   "outputs": [
    {
     "data": {
      "text/plain": [
       "'/Users/leighkomperda/Desktop/My Drive/Coding /CS 4580/Github Notes/my-notes-Komperda/module_2'"
      ]
     },
     "execution_count": 4,
     "metadata": {},
     "output_type": "execute_result"
    }
   ],
   "source": [
    "# Run present working directory\n",
    "%pwd"
   ]
  },
  {
   "cell_type": "code",
   "execution_count": 5,
   "metadata": {},
   "outputs": [
    {
     "name": "stdout",
     "output_type": "stream",
     "text": [
      "/Users/leighkomperda/Desktop/My Drive/Coding /CS 4580/Github Notes/my-notes-Komperda/module_2\n"
     ]
    }
   ],
   "source": [
    "!pwd"
   ]
  },
  {
   "cell_type": "markdown",
   "metadata": {},
   "source": [
    "One of the most common magic commands is the `%matplotlib inline` command.\n",
    "This command will enable plots to be displayed directly inside the notebook"
   ]
  },
  {
   "cell_type": "code",
   "execution_count": 6,
   "metadata": {},
   "outputs": [
    {
     "data": {
      "image/png": "[encoded data removed]",
      "text/plain": [
       "<Figure size 640x480 with 1 Axes>"
      ]
     },
     "metadata": {},
     "output_type": "display_data"
    }
   ],
   "source": [
    "\"\"\" Simple demo of scatter plot \"\"\"\n",
    "import numpy as np\n",
    "import matplotlib.pyplot as plt\n",
    "\n",
    "n = 50\n",
    "x = np.random.rand(n)\n",
    "y = np.random.rand(n)\n",
    "colors = np.random.rand(n)\n",
    "\n",
    "# Calcuate area\n",
    "area = np.pi * (15*np.random.rand(n))**2    # 0 to 15 point radius\n",
    "\n",
    "# Plot data\n",
    "plt.scatter(x,y, s = area, c = colors, alpha = 0.5)\n",
    "plt.show()"
   ]
  },
  {
   "cell_type": "markdown",
   "metadata": {},
   "source": [
    "## HTML\n",
    "Magic command to render the cell as `HTML`"
   ]
  },
  {
   "cell_type": "code",
   "execution_count": 7,
   "metadata": {},
   "outputs": [
    {
     "data": {
      "text/html": [
       "<iframe width=\"560\" height=\"315\" src=\"https://www.youtube.com/embed/Qs7sV72bk3g?si=JIq5M25lKyootrMf\" title=\"YouTube video player\" frameborder=\"0\" allow=\"accelerometer; autoplay; clipboard-write; encrypted-media; gyroscope; picture-in-picture; web-share\" referrerpolicy=\"strict-origin-when-cross-origin\" allowfullscreen></iframe>\n"
      ],
      "text/plain": [
       "<IPython.core.display.HTML object>"
      ]
     },
     "metadata": {},
     "output_type": "display_data"
    }
   ],
   "source": [
    "%%HTML\n",
    "<iframe width=\"560\" height=\"315\" src=\"https://www.youtube.com/embed/Qs7sV72bk3g?si=JIq5M25lKyootrMf\" title=\"YouTube video player\" frameborder=\"0\" allow=\"accelerometer; autoplay; clipboard-write; encrypted-media; gyroscope; picture-in-picture; web-share\" referrerpolicy=\"strict-origin-when-cross-origin\" allowfullscreen></iframe>\n"
   ]
  },
  {
   "cell_type": "markdown",
   "metadata": {},
   "source": [
    "## Conda \n",
    "\n",
    "Create and manage your virtual environment\n",
    "\n",
    "To create virtual env. with a specific `python` version.\n",
    "\n",
    "```bash\n",
    "conda create -n cs4580 python=3.10\n",
    "``` \n"
   ]
  },
  {
   "cell_type": "markdown",
   "metadata": {},
   "source": [
    "get the list of current packages installed\n",
    "```\n",
    "conda list\n",
    "```"
   ]
  },
  {
   "cell_type": "markdown",
   "metadata": {},
   "source": [
    "# NumPy\n",
    "\n",
    "# Features\n",
    "- High Performance\n",
    "- Vectorization - operations at array level not element level\n",
    "- Broadcasting - 3x3 array can do operation with 3x1 array\n",
    "- Interoperability "
   ]
  },
  {
   "cell_type": "markdown",
   "metadata": {},
   "source": [
    "### Comparison with other alternatives\n",
    "\n",
    "#### Python list vs NumPy Arrays\n",
    "- Element of different types `vs` same type\n",
    "- Variable size (nesting is possible) `vs` same size\n",
    "- No operations at the list level `vs` operations allowed at array level\n",
    "- using a lot of memory `vs` less memory"
   ]
  },
  {
   "cell_type": "markdown",
   "metadata": {},
   "source": [
    "50-100k records numpy is faster\n",
    "larger than that pandas is faster"
   ]
  },
  {
   "cell_type": "markdown",
   "metadata": {},
   "source": []
  }
 ],
 "metadata": {
  "kernelspec": {
   "display_name": "DataMining",
   "language": "python",
   "name": "python3"
  },
  "language_info": {
   "codemirror_mode": {
    "name": "ipython",
    "version": 3
   },
   "file_extension": ".py",
   "mimetype": "text/x-python",
   "name": "python",
   "nbconvert_exporter": "python",
   "pygments_lexer": "ipython3",
   "version": "3.10.13"
  },
  "orig_nbformat": 4
 },
 "nbformat": 4,
 "nbformat_minor": 2
}
