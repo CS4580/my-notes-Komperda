{
 "cells": [
  {
   "cell_type": "markdown",
   "metadata": {},
   "source": [
    "## Summary Functions\n",
    "\n",
    "### Dataset\n",
    "\n",
    "From kaggle: https://www.kaggle.com/datasets/zynicide/wine-reviews\n",
    "\n",
    "Download set using Kaggle\n",
    "\n",
    "Make sure you are in the data directory when running this command in terminal\n",
    "\n",
    "kaggle datasets download -d zynicide/wine-reviews\n",
    "\n",
    "Download it to `data` folder and expand the `zip` file\n",
    "\n",
    "Open python interpreter in termainl and import then run unzip function"
   ]
  }
 ],
 "metadata": {
  "language_info": {
   "name": "python"
  },
  "orig_nbformat": 4
 },
 "nbformat": 4,
 "nbformat_minor": 2
}
